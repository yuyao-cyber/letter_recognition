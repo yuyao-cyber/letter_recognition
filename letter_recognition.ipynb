{
 "cells": [
  {
   "cell_type": "code",
   "execution_count": 419,
   "id": "85e75f84",
   "metadata": {},
   "outputs": [
    {
     "data": {
      "text/html": [
       "<div>\n",
       "<style scoped>\n",
       "    .dataframe tbody tr th:only-of-type {\n",
       "        vertical-align: middle;\n",
       "    }\n",
       "\n",
       "    .dataframe tbody tr th {\n",
       "        vertical-align: top;\n",
       "    }\n",
       "\n",
       "    .dataframe thead th {\n",
       "        text-align: right;\n",
       "    }\n",
       "</style>\n",
       "<table border=\"1\" class=\"dataframe\">\n",
       "  <thead>\n",
       "    <tr style=\"text-align: right;\">\n",
       "      <th></th>\n",
       "      <th>0</th>\n",
       "      <th>1</th>\n",
       "      <th>2</th>\n",
       "      <th>3</th>\n",
       "      <th>4</th>\n",
       "      <th>5</th>\n",
       "      <th>6</th>\n",
       "      <th>7</th>\n",
       "      <th>8</th>\n",
       "      <th>9</th>\n",
       "      <th>10</th>\n",
       "      <th>11</th>\n",
       "      <th>12</th>\n",
       "      <th>13</th>\n",
       "      <th>14</th>\n",
       "      <th>15</th>\n",
       "      <th>16</th>\n",
       "    </tr>\n",
       "  </thead>\n",
       "  <tbody>\n",
       "    <tr>\n",
       "      <th>0</th>\n",
       "      <td>T</td>\n",
       "      <td>2</td>\n",
       "      <td>8</td>\n",
       "      <td>3</td>\n",
       "      <td>5</td>\n",
       "      <td>1</td>\n",
       "      <td>8</td>\n",
       "      <td>13</td>\n",
       "      <td>0</td>\n",
       "      <td>6</td>\n",
       "      <td>6</td>\n",
       "      <td>10</td>\n",
       "      <td>8</td>\n",
       "      <td>0</td>\n",
       "      <td>8</td>\n",
       "      <td>0</td>\n",
       "      <td>8</td>\n",
       "    </tr>\n",
       "    <tr>\n",
       "      <th>1</th>\n",
       "      <td>I</td>\n",
       "      <td>5</td>\n",
       "      <td>12</td>\n",
       "      <td>3</td>\n",
       "      <td>7</td>\n",
       "      <td>2</td>\n",
       "      <td>10</td>\n",
       "      <td>5</td>\n",
       "      <td>5</td>\n",
       "      <td>4</td>\n",
       "      <td>13</td>\n",
       "      <td>3</td>\n",
       "      <td>9</td>\n",
       "      <td>2</td>\n",
       "      <td>8</td>\n",
       "      <td>4</td>\n",
       "      <td>10</td>\n",
       "    </tr>\n",
       "    <tr>\n",
       "      <th>2</th>\n",
       "      <td>D</td>\n",
       "      <td>4</td>\n",
       "      <td>11</td>\n",
       "      <td>6</td>\n",
       "      <td>8</td>\n",
       "      <td>6</td>\n",
       "      <td>10</td>\n",
       "      <td>6</td>\n",
       "      <td>2</td>\n",
       "      <td>6</td>\n",
       "      <td>10</td>\n",
       "      <td>3</td>\n",
       "      <td>7</td>\n",
       "      <td>3</td>\n",
       "      <td>7</td>\n",
       "      <td>3</td>\n",
       "      <td>9</td>\n",
       "    </tr>\n",
       "    <tr>\n",
       "      <th>3</th>\n",
       "      <td>N</td>\n",
       "      <td>7</td>\n",
       "      <td>11</td>\n",
       "      <td>6</td>\n",
       "      <td>6</td>\n",
       "      <td>3</td>\n",
       "      <td>5</td>\n",
       "      <td>9</td>\n",
       "      <td>4</td>\n",
       "      <td>6</td>\n",
       "      <td>4</td>\n",
       "      <td>4</td>\n",
       "      <td>10</td>\n",
       "      <td>6</td>\n",
       "      <td>10</td>\n",
       "      <td>2</td>\n",
       "      <td>8</td>\n",
       "    </tr>\n",
       "    <tr>\n",
       "      <th>4</th>\n",
       "      <td>G</td>\n",
       "      <td>2</td>\n",
       "      <td>1</td>\n",
       "      <td>3</td>\n",
       "      <td>1</td>\n",
       "      <td>1</td>\n",
       "      <td>8</td>\n",
       "      <td>6</td>\n",
       "      <td>6</td>\n",
       "      <td>6</td>\n",
       "      <td>6</td>\n",
       "      <td>5</td>\n",
       "      <td>9</td>\n",
       "      <td>1</td>\n",
       "      <td>7</td>\n",
       "      <td>5</td>\n",
       "      <td>10</td>\n",
       "    </tr>\n",
       "    <tr>\n",
       "      <th>...</th>\n",
       "      <td>...</td>\n",
       "      <td>...</td>\n",
       "      <td>...</td>\n",
       "      <td>...</td>\n",
       "      <td>...</td>\n",
       "      <td>...</td>\n",
       "      <td>...</td>\n",
       "      <td>...</td>\n",
       "      <td>...</td>\n",
       "      <td>...</td>\n",
       "      <td>...</td>\n",
       "      <td>...</td>\n",
       "      <td>...</td>\n",
       "      <td>...</td>\n",
       "      <td>...</td>\n",
       "      <td>...</td>\n",
       "      <td>...</td>\n",
       "    </tr>\n",
       "    <tr>\n",
       "      <th>19995</th>\n",
       "      <td>D</td>\n",
       "      <td>2</td>\n",
       "      <td>2</td>\n",
       "      <td>3</td>\n",
       "      <td>3</td>\n",
       "      <td>2</td>\n",
       "      <td>7</td>\n",
       "      <td>7</td>\n",
       "      <td>7</td>\n",
       "      <td>6</td>\n",
       "      <td>6</td>\n",
       "      <td>6</td>\n",
       "      <td>4</td>\n",
       "      <td>2</td>\n",
       "      <td>8</td>\n",
       "      <td>3</td>\n",
       "      <td>7</td>\n",
       "    </tr>\n",
       "    <tr>\n",
       "      <th>19996</th>\n",
       "      <td>C</td>\n",
       "      <td>7</td>\n",
       "      <td>10</td>\n",
       "      <td>8</td>\n",
       "      <td>8</td>\n",
       "      <td>4</td>\n",
       "      <td>4</td>\n",
       "      <td>8</td>\n",
       "      <td>6</td>\n",
       "      <td>9</td>\n",
       "      <td>12</td>\n",
       "      <td>9</td>\n",
       "      <td>13</td>\n",
       "      <td>2</td>\n",
       "      <td>9</td>\n",
       "      <td>3</td>\n",
       "      <td>7</td>\n",
       "    </tr>\n",
       "    <tr>\n",
       "      <th>19997</th>\n",
       "      <td>T</td>\n",
       "      <td>6</td>\n",
       "      <td>9</td>\n",
       "      <td>6</td>\n",
       "      <td>7</td>\n",
       "      <td>5</td>\n",
       "      <td>6</td>\n",
       "      <td>11</td>\n",
       "      <td>3</td>\n",
       "      <td>7</td>\n",
       "      <td>11</td>\n",
       "      <td>9</td>\n",
       "      <td>5</td>\n",
       "      <td>2</td>\n",
       "      <td>12</td>\n",
       "      <td>2</td>\n",
       "      <td>4</td>\n",
       "    </tr>\n",
       "    <tr>\n",
       "      <th>19998</th>\n",
       "      <td>S</td>\n",
       "      <td>2</td>\n",
       "      <td>3</td>\n",
       "      <td>4</td>\n",
       "      <td>2</td>\n",
       "      <td>1</td>\n",
       "      <td>8</td>\n",
       "      <td>7</td>\n",
       "      <td>2</td>\n",
       "      <td>6</td>\n",
       "      <td>10</td>\n",
       "      <td>6</td>\n",
       "      <td>8</td>\n",
       "      <td>1</td>\n",
       "      <td>9</td>\n",
       "      <td>5</td>\n",
       "      <td>8</td>\n",
       "    </tr>\n",
       "    <tr>\n",
       "      <th>19999</th>\n",
       "      <td>A</td>\n",
       "      <td>4</td>\n",
       "      <td>9</td>\n",
       "      <td>6</td>\n",
       "      <td>6</td>\n",
       "      <td>2</td>\n",
       "      <td>9</td>\n",
       "      <td>5</td>\n",
       "      <td>3</td>\n",
       "      <td>1</td>\n",
       "      <td>8</td>\n",
       "      <td>1</td>\n",
       "      <td>8</td>\n",
       "      <td>2</td>\n",
       "      <td>7</td>\n",
       "      <td>2</td>\n",
       "      <td>8</td>\n",
       "    </tr>\n",
       "  </tbody>\n",
       "</table>\n",
       "<p>20000 rows × 17 columns</p>\n",
       "</div>"
      ],
      "text/plain": [
       "      0   1   2   3   4   5   6   7   8   9   10  11  12  13  14  15  16\n",
       "0      T   2   8   3   5   1   8  13   0   6   6  10   8   0   8   0   8\n",
       "1      I   5  12   3   7   2  10   5   5   4  13   3   9   2   8   4  10\n",
       "2      D   4  11   6   8   6  10   6   2   6  10   3   7   3   7   3   9\n",
       "3      N   7  11   6   6   3   5   9   4   6   4   4  10   6  10   2   8\n",
       "4      G   2   1   3   1   1   8   6   6   6   6   5   9   1   7   5  10\n",
       "...   ..  ..  ..  ..  ..  ..  ..  ..  ..  ..  ..  ..  ..  ..  ..  ..  ..\n",
       "19995  D   2   2   3   3   2   7   7   7   6   6   6   4   2   8   3   7\n",
       "19996  C   7  10   8   8   4   4   8   6   9  12   9  13   2   9   3   7\n",
       "19997  T   6   9   6   7   5   6  11   3   7  11   9   5   2  12   2   4\n",
       "19998  S   2   3   4   2   1   8   7   2   6  10   6   8   1   9   5   8\n",
       "19999  A   4   9   6   6   2   9   5   3   1   8   1   8   2   7   2   8\n",
       "\n",
       "[20000 rows x 17 columns]"
      ]
     },
     "execution_count": 419,
     "metadata": {},
     "output_type": "execute_result"
    }
   ],
   "source": [
    "import pandas as pd\n",
    "import random\n",
    "df = pd.read_csv('letter-recognition.data',header=None)\n",
    "df"
   ]
  },
  {
   "cell_type": "markdown",
   "id": "7c7b0d6b",
   "metadata": {},
   "source": [
    "# Preprocessing"
   ]
  },
  {
   "cell_type": "code",
   "execution_count": 420,
   "id": "5d48f404",
   "metadata": {},
   "outputs": [
    {
     "data": {
      "text/html": [
       "<div>\n",
       "<style scoped>\n",
       "    .dataframe tbody tr th:only-of-type {\n",
       "        vertical-align: middle;\n",
       "    }\n",
       "\n",
       "    .dataframe tbody tr th {\n",
       "        vertical-align: top;\n",
       "    }\n",
       "\n",
       "    .dataframe thead th {\n",
       "        text-align: right;\n",
       "    }\n",
       "</style>\n",
       "<table border=\"1\" class=\"dataframe\">\n",
       "  <thead>\n",
       "    <tr style=\"text-align: right;\">\n",
       "      <th></th>\n",
       "      <th>0</th>\n",
       "      <th>1</th>\n",
       "      <th>2</th>\n",
       "      <th>3</th>\n",
       "      <th>4</th>\n",
       "      <th>5</th>\n",
       "      <th>6</th>\n",
       "      <th>7</th>\n",
       "      <th>8</th>\n",
       "      <th>9</th>\n",
       "      <th>10</th>\n",
       "      <th>11</th>\n",
       "      <th>12</th>\n",
       "      <th>13</th>\n",
       "      <th>14</th>\n",
       "      <th>15</th>\n",
       "      <th>16</th>\n",
       "    </tr>\n",
       "  </thead>\n",
       "  <tbody>\n",
       "    <tr>\n",
       "      <th>17</th>\n",
       "      <td>C</td>\n",
       "      <td>7</td>\n",
       "      <td>10</td>\n",
       "      <td>5</td>\n",
       "      <td>5</td>\n",
       "      <td>2</td>\n",
       "      <td>6</td>\n",
       "      <td>8</td>\n",
       "      <td>6</td>\n",
       "      <td>8</td>\n",
       "      <td>11</td>\n",
       "      <td>7</td>\n",
       "      <td>11</td>\n",
       "      <td>2</td>\n",
       "      <td>8</td>\n",
       "      <td>5</td>\n",
       "      <td>9</td>\n",
       "    </tr>\n",
       "    <tr>\n",
       "      <th>25</th>\n",
       "      <td>C</td>\n",
       "      <td>6</td>\n",
       "      <td>11</td>\n",
       "      <td>7</td>\n",
       "      <td>8</td>\n",
       "      <td>3</td>\n",
       "      <td>7</td>\n",
       "      <td>8</td>\n",
       "      <td>7</td>\n",
       "      <td>11</td>\n",
       "      <td>4</td>\n",
       "      <td>7</td>\n",
       "      <td>14</td>\n",
       "      <td>1</td>\n",
       "      <td>7</td>\n",
       "      <td>4</td>\n",
       "      <td>8</td>\n",
       "    </tr>\n",
       "    <tr>\n",
       "      <th>58</th>\n",
       "      <td>C</td>\n",
       "      <td>6</td>\n",
       "      <td>10</td>\n",
       "      <td>4</td>\n",
       "      <td>5</td>\n",
       "      <td>2</td>\n",
       "      <td>6</td>\n",
       "      <td>9</td>\n",
       "      <td>6</td>\n",
       "      <td>6</td>\n",
       "      <td>11</td>\n",
       "      <td>7</td>\n",
       "      <td>7</td>\n",
       "      <td>2</td>\n",
       "      <td>9</td>\n",
       "      <td>5</td>\n",
       "      <td>9</td>\n",
       "    </tr>\n",
       "    <tr>\n",
       "      <th>61</th>\n",
       "      <td>C</td>\n",
       "      <td>2</td>\n",
       "      <td>3</td>\n",
       "      <td>3</td>\n",
       "      <td>1</td>\n",
       "      <td>1</td>\n",
       "      <td>5</td>\n",
       "      <td>9</td>\n",
       "      <td>4</td>\n",
       "      <td>6</td>\n",
       "      <td>11</td>\n",
       "      <td>9</td>\n",
       "      <td>11</td>\n",
       "      <td>1</td>\n",
       "      <td>9</td>\n",
       "      <td>2</td>\n",
       "      <td>8</td>\n",
       "    </tr>\n",
       "    <tr>\n",
       "      <th>82</th>\n",
       "      <td>C</td>\n",
       "      <td>6</td>\n",
       "      <td>12</td>\n",
       "      <td>5</td>\n",
       "      <td>7</td>\n",
       "      <td>4</td>\n",
       "      <td>8</td>\n",
       "      <td>5</td>\n",
       "      <td>4</td>\n",
       "      <td>3</td>\n",
       "      <td>9</td>\n",
       "      <td>9</td>\n",
       "      <td>11</td>\n",
       "      <td>4</td>\n",
       "      <td>9</td>\n",
       "      <td>8</td>\n",
       "      <td>10</td>\n",
       "    </tr>\n",
       "    <tr>\n",
       "      <th>...</th>\n",
       "      <td>...</td>\n",
       "      <td>...</td>\n",
       "      <td>...</td>\n",
       "      <td>...</td>\n",
       "      <td>...</td>\n",
       "      <td>...</td>\n",
       "      <td>...</td>\n",
       "      <td>...</td>\n",
       "      <td>...</td>\n",
       "      <td>...</td>\n",
       "      <td>...</td>\n",
       "      <td>...</td>\n",
       "      <td>...</td>\n",
       "      <td>...</td>\n",
       "      <td>...</td>\n",
       "      <td>...</td>\n",
       "      <td>...</td>\n",
       "    </tr>\n",
       "    <tr>\n",
       "      <th>19873</th>\n",
       "      <td>C</td>\n",
       "      <td>4</td>\n",
       "      <td>6</td>\n",
       "      <td>5</td>\n",
       "      <td>4</td>\n",
       "      <td>5</td>\n",
       "      <td>7</td>\n",
       "      <td>7</td>\n",
       "      <td>4</td>\n",
       "      <td>3</td>\n",
       "      <td>6</td>\n",
       "      <td>8</td>\n",
       "      <td>10</td>\n",
       "      <td>5</td>\n",
       "      <td>11</td>\n",
       "      <td>3</td>\n",
       "      <td>8</td>\n",
       "    </tr>\n",
       "    <tr>\n",
       "      <th>19905</th>\n",
       "      <td>C</td>\n",
       "      <td>5</td>\n",
       "      <td>4</td>\n",
       "      <td>6</td>\n",
       "      <td>6</td>\n",
       "      <td>2</td>\n",
       "      <td>6</td>\n",
       "      <td>7</td>\n",
       "      <td>7</td>\n",
       "      <td>11</td>\n",
       "      <td>8</td>\n",
       "      <td>6</td>\n",
       "      <td>13</td>\n",
       "      <td>1</td>\n",
       "      <td>9</td>\n",
       "      <td>4</td>\n",
       "      <td>8</td>\n",
       "    </tr>\n",
       "    <tr>\n",
       "      <th>19968</th>\n",
       "      <td>C</td>\n",
       "      <td>6</td>\n",
       "      <td>9</td>\n",
       "      <td>6</td>\n",
       "      <td>7</td>\n",
       "      <td>4</td>\n",
       "      <td>4</td>\n",
       "      <td>7</td>\n",
       "      <td>5</td>\n",
       "      <td>7</td>\n",
       "      <td>10</td>\n",
       "      <td>9</td>\n",
       "      <td>14</td>\n",
       "      <td>4</td>\n",
       "      <td>9</td>\n",
       "      <td>5</td>\n",
       "      <td>5</td>\n",
       "    </tr>\n",
       "    <tr>\n",
       "      <th>19971</th>\n",
       "      <td>C</td>\n",
       "      <td>5</td>\n",
       "      <td>10</td>\n",
       "      <td>7</td>\n",
       "      <td>9</td>\n",
       "      <td>8</td>\n",
       "      <td>5</td>\n",
       "      <td>6</td>\n",
       "      <td>4</td>\n",
       "      <td>4</td>\n",
       "      <td>7</td>\n",
       "      <td>6</td>\n",
       "      <td>11</td>\n",
       "      <td>5</td>\n",
       "      <td>11</td>\n",
       "      <td>8</td>\n",
       "      <td>10</td>\n",
       "    </tr>\n",
       "    <tr>\n",
       "      <th>19996</th>\n",
       "      <td>C</td>\n",
       "      <td>7</td>\n",
       "      <td>10</td>\n",
       "      <td>8</td>\n",
       "      <td>8</td>\n",
       "      <td>4</td>\n",
       "      <td>4</td>\n",
       "      <td>8</td>\n",
       "      <td>6</td>\n",
       "      <td>9</td>\n",
       "      <td>12</td>\n",
       "      <td>9</td>\n",
       "      <td>13</td>\n",
       "      <td>2</td>\n",
       "      <td>9</td>\n",
       "      <td>3</td>\n",
       "      <td>7</td>\n",
       "    </tr>\n",
       "  </tbody>\n",
       "</table>\n",
       "<p>736 rows × 17 columns</p>\n",
       "</div>"
      ],
      "text/plain": [
       "      0   1   2   3   4   5   6   7   8   9   10  11  12  13  14  15  16\n",
       "17     C   7  10   5   5   2   6   8   6   8  11   7  11   2   8   5   9\n",
       "25     C   6  11   7   8   3   7   8   7  11   4   7  14   1   7   4   8\n",
       "58     C   6  10   4   5   2   6   9   6   6  11   7   7   2   9   5   9\n",
       "61     C   2   3   3   1   1   5   9   4   6  11   9  11   1   9   2   8\n",
       "82     C   6  12   5   7   4   8   5   4   3   9   9  11   4   9   8  10\n",
       "...   ..  ..  ..  ..  ..  ..  ..  ..  ..  ..  ..  ..  ..  ..  ..  ..  ..\n",
       "19873  C   4   6   5   4   5   7   7   4   3   6   8  10   5  11   3   8\n",
       "19905  C   5   4   6   6   2   6   7   7  11   8   6  13   1   9   4   8\n",
       "19968  C   6   9   6   7   4   4   7   5   7  10   9  14   4   9   5   5\n",
       "19971  C   5  10   7   9   8   5   6   4   4   7   6  11   5  11   8  10\n",
       "19996  C   7  10   8   8   4   4   8   6   9  12   9  13   2   9   3   7\n",
       "\n",
       "[736 rows x 17 columns]"
      ]
     },
     "execution_count": 420,
     "metadata": {},
     "output_type": "execute_result"
    }
   ],
   "source": [
    "df_H = df.loc[df[0]=='H']\n",
    "df_K = df.loc[df[0]=='K']\n",
    "df_M = df.loc[df[0]=='M']\n",
    "df_Y = df.loc[df[0]=='Y']\n",
    "df_C = df.loc[df[0]=='C']\n",
    "df_Z = df.loc[df[0]=='Z']\n",
    "df_C"
   ]
  },
  {
   "cell_type": "code",
   "execution_count": 421,
   "id": "5f23955f",
   "metadata": {},
   "outputs": [
    {
     "data": {
      "text/html": [
       "<div>\n",
       "<style scoped>\n",
       "    .dataframe tbody tr th:only-of-type {\n",
       "        vertical-align: middle;\n",
       "    }\n",
       "\n",
       "    .dataframe tbody tr th {\n",
       "        vertical-align: top;\n",
       "    }\n",
       "\n",
       "    .dataframe thead th {\n",
       "        text-align: right;\n",
       "    }\n",
       "</style>\n",
       "<table border=\"1\" class=\"dataframe\">\n",
       "  <thead>\n",
       "    <tr style=\"text-align: right;\">\n",
       "      <th></th>\n",
       "      <th>0</th>\n",
       "      <th>1</th>\n",
       "      <th>2</th>\n",
       "      <th>3</th>\n",
       "      <th>4</th>\n",
       "      <th>5</th>\n",
       "      <th>6</th>\n",
       "      <th>7</th>\n",
       "      <th>8</th>\n",
       "      <th>9</th>\n",
       "      <th>10</th>\n",
       "      <th>11</th>\n",
       "      <th>12</th>\n",
       "      <th>13</th>\n",
       "      <th>14</th>\n",
       "      <th>15</th>\n",
       "      <th>16</th>\n",
       "    </tr>\n",
       "  </thead>\n",
       "  <tbody>\n",
       "    <tr>\n",
       "      <th>0</th>\n",
       "      <td>H</td>\n",
       "      <td>4</td>\n",
       "      <td>5</td>\n",
       "      <td>5</td>\n",
       "      <td>4</td>\n",
       "      <td>4</td>\n",
       "      <td>7</td>\n",
       "      <td>7</td>\n",
       "      <td>6</td>\n",
       "      <td>6</td>\n",
       "      <td>7</td>\n",
       "      <td>6</td>\n",
       "      <td>8</td>\n",
       "      <td>3</td>\n",
       "      <td>8</td>\n",
       "      <td>3</td>\n",
       "      <td>8</td>\n",
       "    </tr>\n",
       "    <tr>\n",
       "      <th>1</th>\n",
       "      <td>H</td>\n",
       "      <td>6</td>\n",
       "      <td>9</td>\n",
       "      <td>8</td>\n",
       "      <td>7</td>\n",
       "      <td>6</td>\n",
       "      <td>8</td>\n",
       "      <td>6</td>\n",
       "      <td>6</td>\n",
       "      <td>7</td>\n",
       "      <td>7</td>\n",
       "      <td>7</td>\n",
       "      <td>9</td>\n",
       "      <td>6</td>\n",
       "      <td>8</td>\n",
       "      <td>4</td>\n",
       "      <td>8</td>\n",
       "    </tr>\n",
       "    <tr>\n",
       "      <th>2</th>\n",
       "      <td>H</td>\n",
       "      <td>3</td>\n",
       "      <td>3</td>\n",
       "      <td>4</td>\n",
       "      <td>1</td>\n",
       "      <td>2</td>\n",
       "      <td>8</td>\n",
       "      <td>7</td>\n",
       "      <td>5</td>\n",
       "      <td>6</td>\n",
       "      <td>7</td>\n",
       "      <td>6</td>\n",
       "      <td>8</td>\n",
       "      <td>5</td>\n",
       "      <td>8</td>\n",
       "      <td>3</td>\n",
       "      <td>7</td>\n",
       "    </tr>\n",
       "    <tr>\n",
       "      <th>3</th>\n",
       "      <td>H</td>\n",
       "      <td>3</td>\n",
       "      <td>5</td>\n",
       "      <td>5</td>\n",
       "      <td>4</td>\n",
       "      <td>3</td>\n",
       "      <td>7</td>\n",
       "      <td>8</td>\n",
       "      <td>3</td>\n",
       "      <td>6</td>\n",
       "      <td>10</td>\n",
       "      <td>6</td>\n",
       "      <td>8</td>\n",
       "      <td>3</td>\n",
       "      <td>8</td>\n",
       "      <td>3</td>\n",
       "      <td>8</td>\n",
       "    </tr>\n",
       "    <tr>\n",
       "      <th>4</th>\n",
       "      <td>H</td>\n",
       "      <td>8</td>\n",
       "      <td>12</td>\n",
       "      <td>8</td>\n",
       "      <td>6</td>\n",
       "      <td>4</td>\n",
       "      <td>9</td>\n",
       "      <td>8</td>\n",
       "      <td>4</td>\n",
       "      <td>5</td>\n",
       "      <td>8</td>\n",
       "      <td>4</td>\n",
       "      <td>5</td>\n",
       "      <td>6</td>\n",
       "      <td>9</td>\n",
       "      <td>5</td>\n",
       "      <td>9</td>\n",
       "    </tr>\n",
       "    <tr>\n",
       "      <th>...</th>\n",
       "      <td>...</td>\n",
       "      <td>...</td>\n",
       "      <td>...</td>\n",
       "      <td>...</td>\n",
       "      <td>...</td>\n",
       "      <td>...</td>\n",
       "      <td>...</td>\n",
       "      <td>...</td>\n",
       "      <td>...</td>\n",
       "      <td>...</td>\n",
       "      <td>...</td>\n",
       "      <td>...</td>\n",
       "      <td>...</td>\n",
       "      <td>...</td>\n",
       "      <td>...</td>\n",
       "      <td>...</td>\n",
       "      <td>...</td>\n",
       "    </tr>\n",
       "    <tr>\n",
       "      <th>1468</th>\n",
       "      <td>K</td>\n",
       "      <td>7</td>\n",
       "      <td>9</td>\n",
       "      <td>8</td>\n",
       "      <td>5</td>\n",
       "      <td>4</td>\n",
       "      <td>5</td>\n",
       "      <td>8</td>\n",
       "      <td>4</td>\n",
       "      <td>6</td>\n",
       "      <td>10</td>\n",
       "      <td>11</td>\n",
       "      <td>11</td>\n",
       "      <td>6</td>\n",
       "      <td>12</td>\n",
       "      <td>4</td>\n",
       "      <td>7</td>\n",
       "    </tr>\n",
       "    <tr>\n",
       "      <th>1469</th>\n",
       "      <td>K</td>\n",
       "      <td>5</td>\n",
       "      <td>9</td>\n",
       "      <td>5</td>\n",
       "      <td>4</td>\n",
       "      <td>2</td>\n",
       "      <td>7</td>\n",
       "      <td>7</td>\n",
       "      <td>3</td>\n",
       "      <td>6</td>\n",
       "      <td>9</td>\n",
       "      <td>8</td>\n",
       "      <td>9</td>\n",
       "      <td>6</td>\n",
       "      <td>11</td>\n",
       "      <td>3</td>\n",
       "      <td>7</td>\n",
       "    </tr>\n",
       "    <tr>\n",
       "      <th>1470</th>\n",
       "      <td>K</td>\n",
       "      <td>7</td>\n",
       "      <td>14</td>\n",
       "      <td>8</td>\n",
       "      <td>8</td>\n",
       "      <td>5</td>\n",
       "      <td>9</td>\n",
       "      <td>6</td>\n",
       "      <td>3</td>\n",
       "      <td>5</td>\n",
       "      <td>11</td>\n",
       "      <td>3</td>\n",
       "      <td>7</td>\n",
       "      <td>5</td>\n",
       "      <td>7</td>\n",
       "      <td>4</td>\n",
       "      <td>8</td>\n",
       "    </tr>\n",
       "    <tr>\n",
       "      <th>1471</th>\n",
       "      <td>K</td>\n",
       "      <td>3</td>\n",
       "      <td>1</td>\n",
       "      <td>5</td>\n",
       "      <td>3</td>\n",
       "      <td>3</td>\n",
       "      <td>6</td>\n",
       "      <td>7</td>\n",
       "      <td>4</td>\n",
       "      <td>8</td>\n",
       "      <td>7</td>\n",
       "      <td>6</td>\n",
       "      <td>11</td>\n",
       "      <td>3</td>\n",
       "      <td>8</td>\n",
       "      <td>5</td>\n",
       "      <td>9</td>\n",
       "    </tr>\n",
       "    <tr>\n",
       "      <th>1472</th>\n",
       "      <td>K</td>\n",
       "      <td>5</td>\n",
       "      <td>11</td>\n",
       "      <td>5</td>\n",
       "      <td>8</td>\n",
       "      <td>5</td>\n",
       "      <td>3</td>\n",
       "      <td>8</td>\n",
       "      <td>7</td>\n",
       "      <td>3</td>\n",
       "      <td>6</td>\n",
       "      <td>4</td>\n",
       "      <td>11</td>\n",
       "      <td>3</td>\n",
       "      <td>8</td>\n",
       "      <td>2</td>\n",
       "      <td>11</td>\n",
       "    </tr>\n",
       "  </tbody>\n",
       "</table>\n",
       "<p>1473 rows × 17 columns</p>\n",
       "</div>"
      ],
      "text/plain": [
       "     0   1   2   3   4   5   6   7   8   9   10  11  12  13  14  15  16\n",
       "0     H   4   5   5   4   4   7   7   6   6   7   6   8   3   8   3   8\n",
       "1     H   6   9   8   7   6   8   6   6   7   7   7   9   6   8   4   8\n",
       "2     H   3   3   4   1   2   8   7   5   6   7   6   8   5   8   3   7\n",
       "3     H   3   5   5   4   3   7   8   3   6  10   6   8   3   8   3   8\n",
       "4     H   8  12   8   6   4   9   8   4   5   8   4   5   6   9   5   9\n",
       "...  ..  ..  ..  ..  ..  ..  ..  ..  ..  ..  ..  ..  ..  ..  ..  ..  ..\n",
       "1468  K   7   9   8   5   4   5   8   4   6  10  11  11   6  12   4   7\n",
       "1469  K   5   9   5   4   2   7   7   3   6   9   8   9   6  11   3   7\n",
       "1470  K   7  14   8   8   5   9   6   3   5  11   3   7   5   7   4   8\n",
       "1471  K   3   1   5   3   3   6   7   4   8   7   6  11   3   8   5   9\n",
       "1472  K   5  11   5   8   5   3   8   7   3   6   4  11   3   8   2  11\n",
       "\n",
       "[1473 rows x 17 columns]"
      ]
     },
     "execution_count": 421,
     "metadata": {},
     "output_type": "execute_result"
    }
   ],
   "source": [
    "df_HK = pd.concat([df_H,df_K],ignore_index=True)\n",
    "df_MY = pd.concat([df_M,df_Y],ignore_index=True)\n",
    "df_CZ = pd.concat([df_C,df_Z],ignore_index=True)\n",
    "df_HK"
   ]
  },
  {
   "cell_type": "markdown",
   "id": "fd80b92e",
   "metadata": {},
   "source": [
    "# Model Fitting"
   ]
  },
  {
   "cell_type": "markdown",
   "id": "36ed2951",
   "metadata": {},
   "source": [
    "## KNN (pair 1)"
   ]
  },
  {
   "cell_type": "code",
   "execution_count": 422,
   "id": "9905404c",
   "metadata": {},
   "outputs": [],
   "source": [
    "from sklearn.model_selection import KFold\n",
    "from sklearn.model_selection import train_test_split,cross_val_score # Import train_test_split function\n",
    "\n",
    "def get_score(model, X_train, X_test, y_train, y_test):\n",
    "    model.fit(X_train, y_train)\n",
    "    return model.score(X_test, y_test)\n",
    "\n",
    "def cross_validation(df,model):\n",
    "    X = df.loc[:,1:]\n",
    "    y = df.loc[:,0]\n",
    "    kf = KFold(n_splits=5)\n",
    "    score = []\n",
    "    for train_index, test_index in kf.split(X):\n",
    "        X_train, X_test, y_train, y_test = X.iloc[train_index],X.iloc[test_index], \\\n",
    "                                            y.iloc[train_index],y.iloc[test_index]\n",
    "        score.append(get_score((model),X_train, X_test, y_train, y_test))\n",
    "    return score"
   ]
  },
  {
   "cell_type": "code",
   "execution_count": 524,
   "id": "f8e37b30",
   "metadata": {},
   "outputs": [
    {
     "name": "stdout",
     "output_type": "stream",
     "text": [
      "k =  1  --- 0.17816615104675293 seconds ---\n",
      "k =  2  --- 0.13860487937927246 seconds ---\n",
      "k =  3  --- 0.1273198127746582 seconds ---\n",
      "k =  4  --- 0.13907504081726074 seconds ---\n",
      "k =  5  --- 0.14830803871154785 seconds ---\n",
      "[0.9368315461777932, 0.9157131327107114, 0.9266436065951804, 0.9157384987893462, 0.914440216764672]\n"
     ]
    }
   ],
   "source": [
    "from sklearn.model_selection import StratifiedKFold\n",
    "from sklearn.model_selection import cross_val_score\n",
    "from sklearn.svm import SVC\n",
    "from sklearn.neighbors import KNeighborsClassifier\n",
    "from statistics import mean\n",
    "import warnings\n",
    "import time\n",
    "warnings.filterwarnings('ignore')\n",
    "accuracy = []\n",
    "knn_accuracy = []\n",
    "accuracy_dict = dict()\n",
    "time_dict = dict()\n",
    "time_dict['KNN_HK'] = []\n",
    "accuracy_test = dict()\n",
    "time_test = dict()\n",
    "for i in range(1,6):\n",
    "    start_time = time.time()\n",
    "    accuracy.append(cross_validation(df_HK,KNeighborsClassifier(n_neighbors=i)))\n",
    "    knn_accuracy.append(mean(cross_validation(df_HK,KNeighborsClassifier(n_neighbors=i))))\n",
    "    print(\"k = \", i, \" --- %s seconds ---\" % (time.time() - start_time))\n",
    "    time_dict['KNN_HK'].append(time.time() - start_time)\n",
    "accuracy_dict['KNN_HK'] = knn_accuracy\n",
    "print(knn_accuracy)"
   ]
  },
  {
   "cell_type": "code",
   "execution_count": 525,
   "id": "fec83db0",
   "metadata": {},
   "outputs": [
    {
     "data": {
      "image/png": "[encoded data removed]",
      "text/plain": [
       "<Figure size 700x500 with 1 Axes>"
      ]
     },
     "metadata": {},
     "output_type": "display_data"
    }
   ],
   "source": [
    "import matplotlib.pyplot as plt\n",
    "\n",
    "fig = plt.figure(figsize=(7,5))\n",
    "ax = fig.add_axes([0,0,1,1])\n",
    "bp = ax.boxplot(accuracy)\n",
    "plt.show()"
   ]
  },
  {
   "cell_type": "code",
   "execution_count": 526,
   "id": "19dcbd19",
   "metadata": {},
   "outputs": [],
   "source": [
    "#choose k = 1 because it has the highest accuracy and a relatively tight boxplot range."
   ]
  },
  {
   "cell_type": "code",
   "execution_count": 527,
   "id": "1ac1bb08",
   "metadata": {},
   "outputs": [
    {
     "name": "stdout",
     "output_type": "stream",
     "text": [
      "Accuracy for k = 1 is  0.9527027027027027\n",
      "k = 1 --- 0.019008874893188477 seconds ---\n"
     ]
    }
   ],
   "source": [
    "from sklearn.metrics import accuracy_score\n",
    "# k = 1 on validation set:\n",
    "start_time = time.time()\n",
    "X = df_HK.loc[:,1:]\n",
    "y = df_HK.loc[:,0]\n",
    "X_train, X_test, y_train, y_test = train_test_split(X, y, test_size=0.1, random_state=1)\n",
    "model = KNeighborsClassifier(n_neighbors=1).fit(X_train,y_train)\n",
    "y_pred = model.predict(X_test)\n",
    "# score = cross_val_score(model, X,y,cv=5)\n",
    "\n",
    "print(\"Accuracy for k = 1 is \",accuracy_score(y_test, model.predict(X_test)))\n",
    "# print(\"Score: \",score)\n",
    "# print(\"The average score is \",mean(score))\n",
    "print(\"k = 1 --- %s seconds ---\" % (time.time() - start_time))\n",
    "accuracy_test['KNN_pair1'] = accuracy_score(y_test, model.predict(X_test))\n",
    "time_test['KNN_pair1'] = time.time() - start_time"
   ]
  },
  {
   "cell_type": "markdown",
   "id": "30cff923",
   "metadata": {},
   "source": [
    "## KNN (pair 2)"
   ]
  },
  {
   "cell_type": "code",
   "execution_count": 528,
   "id": "7eec6661",
   "metadata": {},
   "outputs": [
    {
     "name": "stdout",
     "output_type": "stream",
     "text": [
      "k =  1  --- 0.17001914978027344 seconds ---\n",
      "k =  2  --- 0.1394791603088379 seconds ---\n",
      "k =  3  --- 0.1634531021118164 seconds ---\n",
      "k =  4  --- 0.16339898109436035 seconds ---\n",
      "k =  5  --- 0.15231895446777344 seconds ---\n",
      "[1.0, 0.9980952380952381, 0.9980952380952381, 0.9974603174603175, 0.9980952380952381]\n"
     ]
    }
   ],
   "source": [
    "warnings.filterwarnings('ignore')\n",
    "accuracy = []\n",
    "knn_accuracy = []\n",
    "time_dict['KNN_MY'] = []\n",
    "for i in range(1,6):\n",
    "    start_time = time.time()\n",
    "    accuracy.append(cross_validation(df_MY,KNeighborsClassifier(n_neighbors=i)))\n",
    "    knn_accuracy.append(mean(cross_validation(df_MY,KNeighborsClassifier(n_neighbors=i))))\n",
    "    print(\"k = \", i, \" --- %s seconds ---\" % (time.time() - start_time))\n",
    "    time_dict['KNN_MY'].append(time.time() - start_time)\n",
    "accuracy_dict['KNN_MY'] = knn_accuracy\n",
    "print(knn_accuracy)"
   ]
  },
  {
   "cell_type": "code",
   "execution_count": 529,
   "id": "fa1dbb1d",
   "metadata": {},
   "outputs": [
    {
     "data": {
      "image/png": "[encoded data removed]",
      "text/plain": [
       "<Figure size 500x300 with 1 Axes>"
      ]
     },
     "metadata": {},
     "output_type": "display_data"
    }
   ],
   "source": [
    "import matplotlib.pyplot as plt\n",
    "\n",
    "fig = plt.figure(figsize=(5,3))\n",
    "ax = fig.add_axes([0,0,1,1])\n",
    "bp = ax.boxplot(accuracy)\n",
    "plt.show()"
   ]
  },
  {
   "cell_type": "code",
   "execution_count": 530,
   "id": "99797115",
   "metadata": {},
   "outputs": [],
   "source": [
    "#choose k = 1 because it has the highest accuracy and a very tight boxplot range."
   ]
  },
  {
   "cell_type": "code",
   "execution_count": 531,
   "id": "9da4f3b9",
   "metadata": {},
   "outputs": [
    {
     "name": "stdout",
     "output_type": "stream",
     "text": [
      "Accuracy for k = 1 is  1.0\n",
      "k = 1 --- 0.022477149963378906 seconds ---\n"
     ]
    }
   ],
   "source": [
    "from sklearn.metrics import accuracy_score\n",
    "# k = 1 on validation set:\n",
    "start_time = time.time()\n",
    "X = df_MY.loc[:,1:]\n",
    "y = df_MY.loc[:,0]\n",
    "X_train, X_test, y_train, y_test = train_test_split(X, y, test_size=0.1, random_state=1)\n",
    "model = KNeighborsClassifier(n_neighbors=1).fit(X_train,y_train)\n",
    "y_pred = model.predict(X_test)\n",
    "# score = cross_val_score(model, X,y,cv=5)\n",
    "print(\"Accuracy for k = 1 is \",accuracy_score(y_test, model.predict(X_test)))\n",
    "# print(\"Score: \",score)\n",
    "# print(\"The average score is \",mean(score))\n",
    "print(\"k = 1 --- %s seconds ---\" % (time.time() - start_time))\n",
    "accuracy_test['KNN_pair2'] = accuracy_score(y_test, model.predict(X_test))\n",
    "time_test['KNN_pair2'] = time.time() - start_time"
   ]
  },
  {
   "cell_type": "markdown",
   "id": "904fa7f4",
   "metadata": {},
   "source": [
    "## KNN (pair 3)"
   ]
  },
  {
   "cell_type": "code",
   "execution_count": 532,
   "id": "41b811b2",
   "metadata": {},
   "outputs": [
    {
     "name": "stdout",
     "output_type": "stream",
     "text": [
      "k =  1  --- 0.1501479148864746 seconds ---\n",
      "k =  2  --- 0.12996912002563477 seconds ---\n",
      "k =  3  --- 0.14267182350158691 seconds ---\n",
      "k =  4  --- 0.1483159065246582 seconds ---\n",
      "k =  5  --- 0.16374897956848145 seconds ---\n",
      "[1.0, 0.9980952380952381, 0.9980952380952381, 0.9974603174603175, 0.9980952380952381]\n"
     ]
    }
   ],
   "source": [
    "warnings.filterwarnings('ignore')\n",
    "accuracy = []\n",
    "knn_accuracy = []\n",
    "time_dict['KNN_CZ'] = []\n",
    "for i in range(1,6):\n",
    "    start_time = time.time()\n",
    "    accuracy.append(cross_validation(df_CZ,KNeighborsClassifier(n_neighbors=i)))\n",
    "    knn_accuracy.append(mean(cross_validation(df_MY,KNeighborsClassifier(n_neighbors=i))))\n",
    "    print(\"k = \", i, \" --- %s seconds ---\" % (time.time() - start_time))\n",
    "    time_dict['KNN_CZ'].append(time.time() - start_time)\n",
    "accuracy_dict['KNN_CZ'] = knn_accuracy\n",
    "print(knn_accuracy)"
   ]
  },
  {
   "cell_type": "code",
   "execution_count": 533,
   "id": "dca405fc",
   "metadata": {},
   "outputs": [
    {
     "data": {
      "image/png": "[encoded data removed]",
      "text/plain": [
       "<Figure size 500x300 with 1 Axes>"
      ]
     },
     "metadata": {},
     "output_type": "display_data"
    }
   ],
   "source": [
    "import matplotlib.pyplot as plt\n",
    "\n",
    "fig = plt.figure(figsize=(5,3))\n",
    "ax = fig.add_axes([0,0,1,1])\n",
    "bp = ax.boxplot(accuracy)\n",
    "plt.show()"
   ]
  },
  {
   "cell_type": "code",
   "execution_count": 534,
   "id": "55f806f1",
   "metadata": {},
   "outputs": [],
   "source": [
    "#choose k = 1 because it has the highest accuracy and a very tight boxplot range."
   ]
  },
  {
   "cell_type": "code",
   "execution_count": 535,
   "id": "6e307aa5",
   "metadata": {},
   "outputs": [
    {
     "name": "stdout",
     "output_type": "stream",
     "text": [
      "Accuracy for k = 1 is  1.0\n",
      "k = 1 --- 0.02128887176513672 seconds ---\n"
     ]
    }
   ],
   "source": [
    "from sklearn.metrics import accuracy_score\n",
    "# k = 1 on validation set:\n",
    "start_time = time.time()\n",
    "X = df_CZ.loc[:,1:]\n",
    "y = df_CZ.loc[:,0]\n",
    "X_train, X_test, y_train, y_test = train_test_split(X, y, test_size=0.1, random_state=1)\n",
    "model = KNeighborsClassifier(n_neighbors=1).fit(X_train,y_train)\n",
    "y_pred = model.predict(X_test)\n",
    "# score = cross_val_score(model, X,y,cv=5)\n",
    "print(\"Accuracy for k = 1 is \",accuracy_score(y_test, model.predict(X_test)))\n",
    "# print(\"Score: \",score)\n",
    "# print(\"The average score is \",mean(score))\n",
    "print(\"k = 1 --- %s seconds ---\" % (time.time() - start_time))\n",
    "accuracy_test['KNN_pair3'] = accuracy_score(y_test, model.predict(X_test))\n",
    "time_test['KNN_pair3'] = time.time() - start_time"
   ]
  },
  {
   "cell_type": "markdown",
   "id": "ccdc032e",
   "metadata": {},
   "source": [
    "## Random Forest (pair 1)"
   ]
  },
  {
   "cell_type": "code",
   "execution_count": 538,
   "id": "b07da942",
   "metadata": {},
   "outputs": [
    {
     "name": "stdout",
     "output_type": "stream",
     "text": [
      "n =  10  --- 0.2629828453063965 seconds ---\n",
      "n =  20  --- 0.34820985794067383 seconds ---\n",
      "n =  30  --- 0.5185511112213135 seconds ---\n",
      "n =  40  --- 0.6558549404144287 seconds ---\n",
      "n =  50  --- 0.8426260948181152 seconds ---\n",
      "[0.941586532918252, 0.9511103424420616, 0.9517952265652023, 0.9579061455090511, 0.9545024789576848]\n"
     ]
    }
   ],
   "source": [
    "from sklearn.ensemble import RandomForestClassifier\n",
    "warnings.filterwarnings('ignore')\n",
    "accuracy = []\n",
    "rf_accuracy = []\n",
    "time_dict['rf_HK'] = []\n",
    "estimator_list = [10,20,30,40,50]\n",
    "for i in estimator_list:\n",
    "    start_time = time.time()\n",
    "    accuracy.append(cross_validation(df_HK,RandomForestClassifier(n_estimators=i)))\n",
    "    rf_accuracy.append(mean(cross_validation(df_HK,RandomForestClassifier(n_estimators=i))))\n",
    "    print(\"n = \", i, \" --- %s seconds ---\" % (time.time() - start_time))\n",
    "    time_dict['rf_HK'].append(time.time() - start_time)\n",
    "accuracy_dict['rf_HK'] = rf_accuracy\n",
    "print(rf_accuracy)"
   ]
  },
  {
   "cell_type": "code",
   "execution_count": 539,
   "id": "64cf5b81",
   "metadata": {},
   "outputs": [
    {
     "data": {
      "image/png": "[encoded data removed]",
      "text/plain": [
       "<Figure size 500x300 with 1 Axes>"
      ]
     },
     "metadata": {},
     "output_type": "display_data"
    }
   ],
   "source": [
    "import matplotlib.pyplot as plt\n",
    "\n",
    "fig = plt.figure(figsize=(5,3))\n",
    "ax = fig.add_axes([0,0,1,1])\n",
    "bp = ax.boxplot(accuracy)\n",
    "plt.show()"
   ]
  },
  {
   "cell_type": "code",
   "execution_count": 540,
   "id": "4220e9a5",
   "metadata": {},
   "outputs": [],
   "source": [
    "#choose the second, n = 20, because it has the highest accuracy and a very tight boxplot range."
   ]
  },
  {
   "cell_type": "code",
   "execution_count": 541,
   "id": "7279bd95",
   "metadata": {},
   "outputs": [
    {
     "name": "stdout",
     "output_type": "stream",
     "text": [
      "Accuracy for n = 20 is  0.9662162162162162\n",
      "n = 20 --- 0.052581071853637695 seconds ---\n"
     ]
    }
   ],
   "source": [
    "from sklearn.metrics import accuracy_score\n",
    "# n = 20 on validation set:\n",
    "start_time = time.time()\n",
    "X = df_HK.loc[:,1:]\n",
    "y = df_HK.loc[:,0]\n",
    "X_train, X_test, y_train, y_test = train_test_split(X, y, test_size=0.1, random_state=1)\n",
    "model = RandomForestClassifier(n_estimators=20).fit(X_train,y_train)\n",
    "y_pred = model.predict(X_test)\n",
    "# score = cross_val_score(model, X,y,cv=5)\n",
    "print(\"Accuracy for n = 20 is \",accuracy_score(y_test, model.predict(X_test)))\n",
    "# print(\"Score: \",score)\n",
    "# print(\"The average score is \",mean(score))\n",
    "print(\"n = 20 --- %s seconds ---\" % (time.time() - start_time))\n",
    "accuracy_test['RF_pair1'] = accuracy_score(y_test, model.predict(X_test))\n",
    "time_test['RF_pair1'] = time.time() - start_time"
   ]
  },
  {
   "cell_type": "markdown",
   "id": "7cd3af34",
   "metadata": {},
   "source": [
    "## Random Forest (pair 2)"
   ]
  },
  {
   "cell_type": "code",
   "execution_count": 542,
   "id": "329475bd",
   "metadata": {},
   "outputs": [
    {
     "name": "stdout",
     "output_type": "stream",
     "text": [
      "n =  10  --- 0.2245161533355713 seconds ---\n",
      "n =  20  --- 0.34354591369628906 seconds ---\n",
      "n =  30  --- 0.5127098560333252 seconds ---\n",
      "n =  40  --- 0.599686861038208 seconds ---\n",
      "n =  50  --- 0.7287309169769287 seconds ---\n",
      "[0.9898533252963633, 0.9968274060679124, 0.9949266626481816, 0.9955595740405867, 0.9955595740405867]\n"
     ]
    }
   ],
   "source": [
    "from sklearn.ensemble import RandomForestClassifier\n",
    "warnings.filterwarnings('ignore')\n",
    "accuracy = []\n",
    "rf_accuracy = []\n",
    "time_dict['rf_MY'] = []\n",
    "estimator_list = [10,20,30,40,50]\n",
    "for i in estimator_list:\n",
    "    start_time = time.time()\n",
    "    accuracy.append(cross_validation(df_MY,RandomForestClassifier(n_estimators=i)))\n",
    "    rf_accuracy.append(mean(cross_validation(df_MY,RandomForestClassifier(n_estimators=i))))\n",
    "    print(\"n = \", i, \" --- %s seconds ---\" % (time.time() - start_time))\n",
    "    time_dict['rf_MY'].append(time.time() - start_time)\n",
    "accuracy_dict['rf_MY'] = rf_accuracy\n",
    "print(rf_accuracy)"
   ]
  },
  {
   "cell_type": "code",
   "execution_count": 543,
   "id": "4e61e29c",
   "metadata": {},
   "outputs": [
    {
     "data": {
      "image/png": "[encoded data removed]",
      "text/plain": [
       "<Figure size 500x300 with 1 Axes>"
      ]
     },
     "metadata": {},
     "output_type": "display_data"
    }
   ],
   "source": [
    "import matplotlib.pyplot as plt\n",
    "\n",
    "fig = plt.figure(figsize=(5,3))\n",
    "ax = fig.add_axes([0,0,1,1])\n",
    "bp = ax.boxplot(accuracy)\n",
    "plt.show()"
   ]
  },
  {
   "cell_type": "code",
   "execution_count": 544,
   "id": "d51583da",
   "metadata": {},
   "outputs": [],
   "source": [
    "#choose the third, n = 30, because it has the highest accuracy and a very tight boxplot range."
   ]
  },
  {
   "cell_type": "code",
   "execution_count": 545,
   "id": "d845e079",
   "metadata": {},
   "outputs": [
    {
     "name": "stdout",
     "output_type": "stream",
     "text": [
      "Accuracy for n = 30 is  1.0\n",
      "n = 30 --- 0.06842589378356934 seconds ---\n"
     ]
    }
   ],
   "source": [
    "from sklearn.metrics import accuracy_score\n",
    "# n = 30 on validation set:\n",
    "start_time = time.time()\n",
    "X = df_MY.loc[:,1:]\n",
    "y = df_MY.loc[:,0]\n",
    "X_train, X_test, y_train, y_test = train_test_split(X, y, test_size=0.1, random_state=1)\n",
    "model = RandomForestClassifier(n_estimators=30).fit(X_train,y_train)\n",
    "y_pred = model.predict(X_test)\n",
    "# score = cross_val_score(model, X,y,cv=5)\n",
    "print(\"Accuracy for n = 30 is \",accuracy_score(y_test, model.predict(X_test)))\n",
    "# print(\"Score: \",score)\n",
    "# print(\"The average score is \",mean(score))\n",
    "print(\"n = 30 --- %s seconds ---\" % (time.time() - start_time))\n",
    "accuracy_test['RF_pair2'] = accuracy_score(y_test, model.predict(X_test))\n",
    "time_test['RF_pair2'] = time.time() - start_time"
   ]
  },
  {
   "cell_type": "markdown",
   "id": "b8b81561",
   "metadata": {},
   "source": [
    "## Random Forest (pair 3)"
   ]
  },
  {
   "cell_type": "code",
   "execution_count": 546,
   "id": "6ebdb002",
   "metadata": {},
   "outputs": [
    {
     "name": "stdout",
     "output_type": "stream",
     "text": [
      "n =  10  --- 0.21624422073364258 seconds ---\n",
      "n =  20  --- 0.31807398796081543 seconds ---\n",
      "n =  30  --- 0.47083282470703125 seconds ---\n",
      "n =  40  --- 0.57657790184021 seconds ---\n",
      "n =  50  --- 0.7590599060058594 seconds ---\n",
      "[0.9959183673469387, 0.9959183673469387, 0.9993197278911564, 0.9972789115646259, 0.998639455782313]\n"
     ]
    }
   ],
   "source": [
    "from sklearn.ensemble import RandomForestClassifier\n",
    "warnings.filterwarnings('ignore')\n",
    "accuracy = []\n",
    "rf_accuracy = []\n",
    "time_dict['rf_CZ'] = []\n",
    "estimator_list = [10,20,30,40,50]\n",
    "for i in estimator_list:\n",
    "    start_time = time.time()\n",
    "    accuracy.append(cross_validation(df_CZ,RandomForestClassifier(n_estimators=i)))\n",
    "    rf_accuracy.append(mean(cross_validation(df_CZ,RandomForestClassifier(n_estimators=i))))\n",
    "    print(\"n = \", i, \" --- %s seconds ---\" % (time.time() - start_time))\n",
    "    time_dict['rf_CZ'].append(time.time() - start_time)\n",
    "accuracy_dict['rf_CZ'] = rf_accuracy\n",
    "print(rf_accuracy)"
   ]
  },
  {
   "cell_type": "code",
   "execution_count": 547,
   "id": "256a45a7",
   "metadata": {},
   "outputs": [
    {
     "data": {
      "image/png": "[encoded data removed]",
      "text/plain": [
       "<Figure size 500x300 with 1 Axes>"
      ]
     },
     "metadata": {},
     "output_type": "display_data"
    }
   ],
   "source": [
    "import matplotlib.pyplot as plt\n",
    "\n",
    "fig = plt.figure(figsize=(5,3))\n",
    "ax = fig.add_axes([0,0,1,1])\n",
    "bp = ax.boxplot(accuracy)\n",
    "plt.show()"
   ]
  },
  {
   "cell_type": "code",
   "execution_count": 548,
   "id": "46214cb8",
   "metadata": {},
   "outputs": [],
   "source": [
    "#choose the third, n = 30, because it has the highest accuracy and a very tight boxplot range."
   ]
  },
  {
   "cell_type": "code",
   "execution_count": 549,
   "id": "b6041ebd",
   "metadata": {},
   "outputs": [
    {
     "name": "stdout",
     "output_type": "stream",
     "text": [
      "Accuracy for n = 30 is  1.0\n",
      "n = 30 --- 0.07038617134094238 seconds ---\n"
     ]
    }
   ],
   "source": [
    "from sklearn.metrics import accuracy_score\n",
    "# n = 30 on validation set:\n",
    "start_time = time.time()\n",
    "X = df_CZ.loc[:,1:]\n",
    "y = df_CZ.loc[:,0]\n",
    "X_train, X_test, y_train, y_test = train_test_split(X, y, test_size=0.1, random_state=1)\n",
    "model = RandomForestClassifier(n_estimators=30).fit(X_train,y_train)\n",
    "y_pred = model.predict(X_test)\n",
    "# score = cross_val_score(model, X,y,cv=5)\n",
    "print(\"Accuracy for n = 30 is \",accuracy_score(y_test, model.predict(X_test)))\n",
    "# print(\"Score: \",score)\n",
    "# print(\"The average score is \",mean(score))\n",
    "print(\"n = 30 --- %s seconds ---\" % (time.time() - start_time))\n",
    "accuracy_test['RF_pair3'] = accuracy_score(y_test, model.predict(X_test))\n",
    "time_test['RF_pair3'] = time.time() - start_time"
   ]
  },
  {
   "cell_type": "markdown",
   "id": "557ae022",
   "metadata": {},
   "source": [
    "# Optional extension 3 - Consider more classification models"
   ]
  },
  {
   "cell_type": "markdown",
   "id": "3b57ad5d",
   "metadata": {},
   "source": [
    "## Decision Tree (pair 1)"
   ]
  },
  {
   "cell_type": "code",
   "execution_count": 550,
   "id": "8debe175",
   "metadata": {},
   "outputs": [
    {
     "name": "stdout",
     "output_type": "stream",
     "text": [
      "n =  1  --- 0.04375290870666504 seconds ---\n",
      "n =  2  --- 0.05125594139099121 seconds ---\n",
      "n =  3  --- 0.04836297035217285 seconds ---\n",
      "n =  4  --- 0.05287027359008789 seconds ---\n",
      "n =  5  --- 0.05630207061767578 seconds ---\n",
      "[0.7594972904416004, 0.7312625389138706, 0.8275337253545486, 0.8451677620200623, 0.8642038510319382]\n"
     ]
    }
   ],
   "source": [
    "from sklearn.tree import DecisionTreeClassifier, DecisionTreeRegressor\n",
    "warnings.filterwarnings('ignore')\n",
    "accuracy = []\n",
    "dt_accuracy = []\n",
    "time_dict['dt_HK'] = []\n",
    "for i in range(1,6):\n",
    "    start_time = time.time()\n",
    "    accuracy.append(cross_validation(df_HK,DecisionTreeClassifier(max_depth=i)))\n",
    "    dt_accuracy.append(mean(cross_validation(df_HK,DecisionTreeClassifier(max_depth=i))))\n",
    "    print(\"n = \", i, \" --- %s seconds ---\" % (time.time() - start_time))\n",
    "    time_dict['dt_HK'].append(time.time() - start_time)\n",
    "accuracy_dict['dt_HK'] = dt_accuracy\n",
    "print(dt_accuracy)"
   ]
  },
  {
   "cell_type": "code",
   "execution_count": 551,
   "id": "408428b2",
   "metadata": {},
   "outputs": [
    {
     "data": {
      "image/png": "[encoded data removed]",
      "text/plain": [
       "<Figure size 500x300 with 1 Axes>"
      ]
     },
     "metadata": {},
     "output_type": "display_data"
    }
   ],
   "source": [
    "import matplotlib.pyplot as plt\n",
    "\n",
    "fig = plt.figure(figsize=(5,3))\n",
    "ax = fig.add_axes([0,0,1,1])\n",
    "bp = ax.boxplot(accuracy)\n",
    "plt.show()"
   ]
  },
  {
   "cell_type": "code",
   "execution_count": 552,
   "id": "24a44a74",
   "metadata": {},
   "outputs": [
    {
     "name": "stdout",
     "output_type": "stream",
     "text": [
      "Accuracy for max_depth=5 is  0.9121621621621622\n",
      "max_depth=5 --- 0.010676860809326172 seconds ---\n"
     ]
    }
   ],
   "source": [
    "#choose max_depth = 5, because it has the highest accuracy and a very tight boxplot range.\n",
    "from sklearn.metrics import accuracy_score\n",
    "# max_depth=5 on validation set:\n",
    "start_time = time.time()\n",
    "X = df_HK.loc[:,1:]\n",
    "y = df_HK.loc[:,0]\n",
    "X_train, X_test, y_train, y_test = train_test_split(X, y, test_size=0.1, random_state=1)\n",
    "model = DecisionTreeClassifier(max_depth=5).fit(X_train,y_train)\n",
    "y_pred = model.predict(X_test)\n",
    "print(\"Accuracy for max_depth=5 is \",accuracy_score(y_test, model.predict(X_test)))\n",
    "print(\"max_depth=5 --- %s seconds ---\" % (time.time() - start_time))\n",
    "accuracy_test['DT_pair1'] = accuracy_score(y_test, model.predict(X_test))\n",
    "time_test['DT_pair1'] = time.time() - start_time"
   ]
  },
  {
   "cell_type": "markdown",
   "id": "c55904b1",
   "metadata": {},
   "source": [
    "## Decision Tree (pair 2)"
   ]
  },
  {
   "cell_type": "code",
   "execution_count": 553,
   "id": "d437b155",
   "metadata": {},
   "outputs": [
    {
     "name": "stdout",
     "output_type": "stream",
     "text": [
      "n =  1  --- 0.046813249588012695 seconds ---\n",
      "n =  2  --- 0.05413484573364258 seconds ---\n",
      "n =  3  --- 0.0483088493347168 seconds ---\n",
      "n =  4  --- 0.04085087776184082 seconds ---\n",
      "n =  5  --- 0.04640007019042969 seconds ---\n",
      "[0.9213703033956199, 0.9499638336347197, 0.9771770142656219, 0.9778159533855736, 0.9828852722523609]\n"
     ]
    }
   ],
   "source": [
    "warnings.filterwarnings('ignore')\n",
    "accuracy = []\n",
    "dt_accuracy = []\n",
    "time_dict['dt_MY'] = []\n",
    "for i in range(1,6):\n",
    "    start_time = time.time()\n",
    "    accuracy.append(cross_validation(df_MY,DecisionTreeClassifier(max_depth=i)))\n",
    "    dt_accuracy.append(mean(cross_validation(df_MY,DecisionTreeClassifier(max_depth=i))))\n",
    "    print(\"n = \", i, \" --- %s seconds ---\" % (time.time() - start_time))\n",
    "    time_dict['dt_MY'].append(time.time() - start_time)\n",
    "accuracy_dict['dt_MY'] = dt_accuracy\n",
    "print(dt_accuracy)"
   ]
  },
  {
   "cell_type": "code",
   "execution_count": 554,
   "id": "41368dc4",
   "metadata": {},
   "outputs": [
    {
     "data": {
      "image/png": "[encoded data removed]",
      "text/plain": [
       "<Figure size 500x300 with 1 Axes>"
      ]
     },
     "metadata": {},
     "output_type": "display_data"
    }
   ],
   "source": [
    "import matplotlib.pyplot as plt\n",
    "\n",
    "fig = plt.figure(figsize=(5,3))\n",
    "ax = fig.add_axes([0,0,1,1])\n",
    "bp = ax.boxplot(accuracy)\n",
    "plt.show()"
   ]
  },
  {
   "cell_type": "code",
   "execution_count": 555,
   "id": "e9ed281f",
   "metadata": {},
   "outputs": [
    {
     "name": "stdout",
     "output_type": "stream",
     "text": [
      "Accuracy for max_depth=5 is  0.9873417721518988\n",
      "max_depth=5 --- 0.010708093643188477 seconds ---\n"
     ]
    }
   ],
   "source": [
    "#choose max_depth = 5, because it has the highest accuracy and a very tight boxplot range.\n",
    "from sklearn.metrics import accuracy_score\n",
    "# max_depth=5 on validation set:\n",
    "start_time = time.time()\n",
    "X = df_MY.loc[:,1:]\n",
    "y = df_MY.loc[:,0]\n",
    "X_train, X_test, y_train, y_test = train_test_split(X, y, test_size=0.1, random_state=1)\n",
    "model = DecisionTreeClassifier(max_depth=5).fit(X_train,y_train)\n",
    "y_pred = model.predict(X_test)\n",
    "print(\"Accuracy for max_depth=5 is \",accuracy_score(y_test, model.predict(X_test)))\n",
    "print(\"max_depth=5 --- %s seconds ---\" % (time.time() - start_time))\n",
    "accuracy_test['DT_pair2'] = accuracy_score(y_test, model.predict(X_test))\n",
    "time_test['DT_pair2'] = time.time() - start_time"
   ]
  },
  {
   "cell_type": "markdown",
   "id": "ae414d95",
   "metadata": {},
   "source": [
    "## Decision Tree(pair3)"
   ]
  },
  {
   "cell_type": "code",
   "execution_count": 556,
   "id": "45e94b75",
   "metadata": {},
   "outputs": [
    {
     "name": "stdout",
     "output_type": "stream",
     "text": [
      "n =  1  --- 0.04987001419067383 seconds ---\n",
      "n =  2  --- 0.05287504196166992 seconds ---\n",
      "n =  3  --- 0.049182891845703125 seconds ---\n",
      "n =  4  --- 0.04144573211669922 seconds ---\n",
      "n =  5  --- 0.04108905792236328 seconds ---\n",
      "[0.882312925170068, 0.9156462585034013, 0.9482993197278912, 0.9659863945578231, 0.9714285714285714]\n"
     ]
    }
   ],
   "source": [
    "warnings.filterwarnings('ignore')\n",
    "accuracy = []\n",
    "dt_accuracy = []\n",
    "time_dict['dt_CZ'] = []\n",
    "for i in range(1,6):\n",
    "    start_time = time.time()\n",
    "    accuracy.append(cross_validation(df_CZ,DecisionTreeClassifier(max_depth=i)))\n",
    "    dt_accuracy.append(mean(cross_validation(df_CZ,DecisionTreeClassifier(max_depth=i))))\n",
    "    print(\"n = \", i, \" --- %s seconds ---\" % (time.time() - start_time))\n",
    "    time_dict['dt_CZ'].append(time.time() - start_time)\n",
    "accuracy_dict['dt_CZ'] = dt_accuracy\n",
    "print(dt_accuracy)"
   ]
  },
  {
   "cell_type": "code",
   "execution_count": 557,
   "id": "66cb4666",
   "metadata": {},
   "outputs": [
    {
     "data": {
      "image/png": "[encoded data removed]",
      "text/plain": [
       "<Figure size 500x300 with 1 Axes>"
      ]
     },
     "metadata": {},
     "output_type": "display_data"
    }
   ],
   "source": [
    "fig = plt.figure(figsize=(5,3))\n",
    "ax = fig.add_axes([0,0,1,1])\n",
    "bp = ax.boxplot(accuracy)\n",
    "plt.show()"
   ]
  },
  {
   "cell_type": "code",
   "execution_count": 558,
   "id": "8b121ecb",
   "metadata": {},
   "outputs": [
    {
     "name": "stdout",
     "output_type": "stream",
     "text": [
      "Accuracy for max_depth=4 is  0.9727891156462585\n",
      "max_depth=4 --- 0.010009050369262695 seconds ---\n"
     ]
    }
   ],
   "source": [
    "#choose max_depth = 4, because it has a very high accuracy and a very tight boxplot range overall.\n",
    "from sklearn.metrics import accuracy_score\n",
    "# max_depth=4 on validation set:\n",
    "start_time = time.time()\n",
    "X = df_CZ.loc[:,1:]\n",
    "y = df_CZ.loc[:,0]\n",
    "X_train, X_test, y_train, y_test = train_test_split(X, y, test_size=0.1, random_state=1)\n",
    "model = DecisionTreeClassifier(max_depth=4).fit(X_train,y_train)\n",
    "y_pred = model.predict(X_test)\n",
    "print(\"Accuracy for max_depth=4 is \",accuracy_score(y_test, model.predict(X_test)))\n",
    "print(\"max_depth=4 --- %s seconds ---\" % (time.time() - start_time))\n",
    "accuracy_test['DT_pair3'] = accuracy_score(y_test, model.predict(X_test))\n",
    "time_test['DT_pair3'] = time.time() - start_time"
   ]
  },
  {
   "cell_type": "code",
   "execution_count": null,
   "id": "f4925f6d",
   "metadata": {},
   "outputs": [],
   "source": []
  },
  {
   "cell_type": "code",
   "execution_count": null,
   "id": "6b5f52a3",
   "metadata": {},
   "outputs": [],
   "source": []
  },
  {
   "cell_type": "markdown",
   "id": "0c5486e2",
   "metadata": {},
   "source": [
    "## SVM (pair 1)"
   ]
  },
  {
   "cell_type": "code",
   "execution_count": 559,
   "id": "287294b0",
   "metadata": {},
   "outputs": [],
   "source": [
    "from sklearn.svm import SVC\n",
    "from sklearn.model_selection import StratifiedKFold, GridSearchCV, RandomizedSearchCV, cross_val_score"
   ]
  },
  {
   "cell_type": "code",
   "execution_count": 560,
   "id": "9539719b",
   "metadata": {},
   "outputs": [],
   "source": [
    "#Train test split\n",
    "X = df_HK.loc[:,1:]\n",
    "y = df_HK.loc[:,0]\n",
    "X_train, X_test, y_train, y_test = train_test_split(X, y, test_size=0.1, random_state=1)\n",
    "\n",
    "svc = SVC()\n",
    "# Define the search space\n",
    "param_grid = { \n",
    "    # Kernel type\n",
    "    \"kernel\": ['rbf', 'poly','sigmoid'],\n",
    "    }\n",
    "# Set up score\n",
    "scoring = ['accuracy']\n",
    "# Set up the k-fold cross-validation\n",
    "kfold = StratifiedKFold(n_splits=5, shuffle=True, random_state=0)"
   ]
  },
  {
   "cell_type": "code",
   "execution_count": 561,
   "id": "22c943c5",
   "metadata": {},
   "outputs": [
    {
     "data": {
      "text/plain": [
       "GridSearchCV(cv=StratifiedKFold(n_splits=5, random_state=0, shuffle=True),\n",
       "             estimator=SVC(), n_jobs=-1,\n",
       "             param_grid={'kernel': ['rbf', 'poly', 'sigmoid']},\n",
       "             refit='accuracy', scoring=['accuracy'])"
      ]
     },
     "execution_count": 561,
     "metadata": {},
     "output_type": "execute_result"
    }
   ],
   "source": [
    "# Define grid search\n",
    "grid_search = GridSearchCV(estimator=svc, \n",
    "                           param_grid=param_grid, \n",
    "                           scoring=scoring, \n",
    "                           refit='accuracy', \n",
    "                           n_jobs=-1, \n",
    "                           cv=kfold, \n",
    "                           verbose=0)\n",
    "# Fit grid search\n",
    "grid_result = grid_search.fit(X_train, y_train)\n",
    "# Print grid search summary\n",
    "grid_result"
   ]
  },
  {
   "cell_type": "code",
   "execution_count": 562,
   "id": "c02e076d",
   "metadata": {},
   "outputs": [
    {
     "data": {
      "text/plain": [
       "{'mean_fit_time': array([0.04616189, 0.04271474, 0.11665039]),\n",
       " 'std_fit_time': array([0.00264003, 0.00350415, 0.02694763]),\n",
       " 'mean_score_time': array([0.01921358, 0.00504107, 0.01891322]),\n",
       " 'std_score_time': array([0.00193555, 0.00134903, 0.00255253]),\n",
       " 'param_kernel': masked_array(data=['rbf', 'poly', 'sigmoid'],\n",
       "              mask=[False, False, False],\n",
       "        fill_value='?',\n",
       "             dtype=object),\n",
       " 'params': [{'kernel': 'rbf'}, {'kernel': 'poly'}, {'kernel': 'sigmoid'}],\n",
       " 'split0_test_accuracy': array([0.95849057, 0.96226415, 0.74339623]),\n",
       " 'split1_test_accuracy': array([0.96226415, 0.98490566, 0.61886792]),\n",
       " 'split2_test_accuracy': array([0.96226415, 0.97735849, 0.69811321]),\n",
       " 'split3_test_accuracy': array([0.95849057, 0.97358491, 0.49811321]),\n",
       " 'split4_test_accuracy': array([0.96603774, 0.97358491, 0.49811321]),\n",
       " 'mean_test_accuracy': array([0.96150943, 0.97433962, 0.61132075]),\n",
       " 'std_test_accuracy': array([0.00282389, 0.00731725, 0.10066352]),\n",
       " 'rank_test_accuracy': array([2, 1, 3], dtype=int32)}"
      ]
     },
     "execution_count": 562,
     "metadata": {},
     "output_type": "execute_result"
    }
   ],
   "source": [
    "grid_result.cv_results_"
   ]
  },
  {
   "cell_type": "code",
   "execution_count": 563,
   "id": "670830f4",
   "metadata": {},
   "outputs": [
    {
     "data": {
      "text/html": [
       "<div>\n",
       "<style scoped>\n",
       "    .dataframe tbody tr th:only-of-type {\n",
       "        vertical-align: middle;\n",
       "    }\n",
       "\n",
       "    .dataframe tbody tr th {\n",
       "        vertical-align: top;\n",
       "    }\n",
       "\n",
       "    .dataframe thead th {\n",
       "        text-align: right;\n",
       "    }\n",
       "</style>\n",
       "<table border=\"1\" class=\"dataframe\">\n",
       "  <thead>\n",
       "    <tr style=\"text-align: right;\">\n",
       "      <th></th>\n",
       "      <th>rbf</th>\n",
       "      <th>poly</th>\n",
       "      <th>sigmoid</th>\n",
       "    </tr>\n",
       "  </thead>\n",
       "  <tbody>\n",
       "    <tr>\n",
       "      <th>0</th>\n",
       "      <td>0.958491</td>\n",
       "      <td>0.962264</td>\n",
       "      <td>0.743396</td>\n",
       "    </tr>\n",
       "    <tr>\n",
       "      <th>1</th>\n",
       "      <td>0.962264</td>\n",
       "      <td>0.984906</td>\n",
       "      <td>0.618868</td>\n",
       "    </tr>\n",
       "    <tr>\n",
       "      <th>2</th>\n",
       "      <td>0.962264</td>\n",
       "      <td>0.977358</td>\n",
       "      <td>0.698113</td>\n",
       "    </tr>\n",
       "    <tr>\n",
       "      <th>3</th>\n",
       "      <td>0.958491</td>\n",
       "      <td>0.973585</td>\n",
       "      <td>0.498113</td>\n",
       "    </tr>\n",
       "    <tr>\n",
       "      <th>4</th>\n",
       "      <td>0.966038</td>\n",
       "      <td>0.973585</td>\n",
       "      <td>0.498113</td>\n",
       "    </tr>\n",
       "  </tbody>\n",
       "</table>\n",
       "</div>"
      ],
      "text/plain": [
       "        rbf      poly   sigmoid\n",
       "0  0.958491  0.962264  0.743396\n",
       "1  0.962264  0.984906  0.618868\n",
       "2  0.962264  0.977358  0.698113\n",
       "3  0.958491  0.973585  0.498113\n",
       "4  0.966038  0.973585  0.498113"
      ]
     },
     "execution_count": 563,
     "metadata": {},
     "output_type": "execute_result"
    }
   ],
   "source": [
    "df_accuracy = pd.DataFrame(list(grid_result.cv_results_.values())[6:11],columns=['rbf','poly','sigmoid'])\n",
    "df_accuracy"
   ]
  },
  {
   "cell_type": "code",
   "execution_count": 564,
   "id": "ba6a3417",
   "metadata": {},
   "outputs": [
    {
     "data": {
      "image/png": "[encoded data removed]",
      "text/plain": [
       "<Figure size 500x300 with 1 Axes>"
      ]
     },
     "metadata": {},
     "output_type": "display_data"
    }
   ],
   "source": [
    "fig = plt.figure(figsize=(5,3))\n",
    "ax = fig.add_axes([0,0,1,1])\n",
    "bp = ax.boxplot(df_accuracy,labels=['rbf','poly','sigmoid'])\n",
    "plt.ylabel('accuracy')\n",
    "plt.show()"
   ]
  },
  {
   "cell_type": "code",
   "execution_count": 565,
   "id": "159d5f42",
   "metadata": {},
   "outputs": [
    {
     "name": "stdout",
     "output_type": "stream",
     "text": [
      "The fit time for rbf is 0.04616189002990723\n",
      "The fit time for poly is 0.0427147388458252\n",
      "The fit time for sigmoid is 0.116650390625\n",
      "The best accuracy score for the training dataset is 0.9743\n",
      "The best hyperparameters are {'kernel': 'poly'}\n",
      "The accuracy score for the testing dataset is 0.9527\n"
     ]
    }
   ],
   "source": [
    "#Print the list of fit time for the training dataset\n",
    "time_dict['SVM_HK'] = []\n",
    "kernel = ['rbf','poly','sigmoid']\n",
    "# time_dict['dt_HK'].append(time.time() - start_time)\n",
    "# accuracy_dict['dt_HK'] = dt_accuracy\n",
    "for i in range(3):\n",
    "    print('The fit time for {} is {}'.format(kernel[i],grid_result.cv_results_['mean_fit_time'][i]))\n",
    "    time_dict['SVM_HK'].append(grid_result.cv_results_['mean_fit_time'][i])\n",
    "# Print the best accuracy score for the training dataset\n",
    "print(f'The best accuracy score for the training dataset is {grid_result.best_score_:.4f}')\n",
    "# Print the hyperparameters for the best score\n",
    "print(f'The best hyperparameters are {grid_result.best_params_}')\n",
    "# Print the best accuracy score for the testing dataset\n",
    "print(f'The accuracy score for the testing dataset is {grid_search.score(X_test, y_test):.4f}')\n",
    "accuracy_dict['SVM_HK'] = grid_result.cv_results_['split0_test_accuracy']"
   ]
  },
  {
   "cell_type": "markdown",
   "id": "d8bf0476",
   "metadata": {},
   "source": [
    "We will choose poly as the best kernel because it has the biggest accuracy value with a tight boxplot range. \n",
    "In addition, grid_result.best_params_ gives the same answer."
   ]
  },
  {
   "cell_type": "code",
   "execution_count": 566,
   "id": "03051d34",
   "metadata": {},
   "outputs": [
    {
     "name": "stdout",
     "output_type": "stream",
     "text": [
      "Accuracy for  {'kernel': 'poly'} is  0.9527027027027027\n",
      "{'kernel': 'poly'}  --- 0.030009984970092773 seconds ---\n"
     ]
    }
   ],
   "source": [
    "from sklearn.metrics import accuracy_score\n",
    "# kernel='poly' on validation set:\n",
    "start_time = time.time()\n",
    "X = df_HK.loc[:,1:]\n",
    "y = df_HK.loc[:,0]\n",
    "X_train, X_test, y_train, y_test = train_test_split(X, y, test_size=0.1, random_state=1)\n",
    "model = SVC(kernel='poly').fit(X_train,y_train)\n",
    "y_pred = model.predict(X_test)\n",
    "print(\"Accuracy for \",grid_result.best_params_, \"is \",accuracy_score(y_test, model.predict(X_test)))\n",
    "print(grid_result.best_params_, \" --- %s seconds ---\" % (time.time() - start_time))\n",
    "accuracy_test['SVM_pair1'] = accuracy_score(y_test, model.predict(X_test))\n",
    "time_test['SVM_pair1'] = time.time() - start_time"
   ]
  },
  {
   "cell_type": "markdown",
   "id": "d7137653",
   "metadata": {},
   "source": [
    "## SVM (pair 2)"
   ]
  },
  {
   "cell_type": "code",
   "execution_count": 567,
   "id": "1f385818",
   "metadata": {},
   "outputs": [],
   "source": [
    "#Train test split\n",
    "X = df_MY.loc[:,1:]\n",
    "y = df_MY.loc[:,0]\n",
    "X_train, X_test, y_train, y_test = train_test_split(X, y, test_size=0.1, random_state=1)\n",
    "\n",
    "svc = SVC()\n",
    "# Define the search space\n",
    "param_grid = { \n",
    "    # Kernel type\n",
    "    \"kernel\": ['rbf', 'poly','sigmoid'],\n",
    "    }\n",
    "# Set up score\n",
    "scoring = ['accuracy']\n",
    "# Set up the k-fold cross-validation\n",
    "kfold = StratifiedKFold(n_splits=5, shuffle=True, random_state=0)"
   ]
  },
  {
   "cell_type": "code",
   "execution_count": 568,
   "id": "d41531a4",
   "metadata": {},
   "outputs": [
    {
     "data": {
      "text/plain": [
       "GridSearchCV(cv=StratifiedKFold(n_splits=5, random_state=0, shuffle=True),\n",
       "             estimator=SVC(), n_jobs=-1,\n",
       "             param_grid={'kernel': ['rbf', 'poly', 'sigmoid']},\n",
       "             refit='accuracy', scoring=['accuracy'])"
      ]
     },
     "execution_count": 568,
     "metadata": {},
     "output_type": "execute_result"
    }
   ],
   "source": [
    "# Define grid search\n",
    "grid_search = GridSearchCV(estimator=svc, \n",
    "                           param_grid=param_grid, \n",
    "                           scoring=scoring, \n",
    "                           refit='accuracy', \n",
    "                           n_jobs=-1, \n",
    "                           cv=kfold, \n",
    "                           verbose=0)\n",
    "# Fit grid search\n",
    "grid_result = grid_search.fit(X_train, y_train)\n",
    "# Print grid search summary\n",
    "grid_result"
   ]
  },
  {
   "cell_type": "code",
   "execution_count": 569,
   "id": "f27ea89f",
   "metadata": {},
   "outputs": [
    {
     "data": {
      "image/png": "[encoded data removed]",
      "text/plain": [
       "<Figure size 500x300 with 1 Axes>"
      ]
     },
     "metadata": {},
     "output_type": "display_data"
    }
   ],
   "source": [
    "df_accuracy = pd.DataFrame(list(grid_result.cv_results_.values())[6:11],columns=['rbf','poly','sigmoid'])\n",
    "fig = plt.figure(figsize=(5,3))\n",
    "ax = fig.add_axes([0,0,1,1])\n",
    "bp = ax.boxplot(df_accuracy,labels=['rbf','poly','sigmoid'])\n",
    "plt.ylabel('accuracy')\n",
    "plt.show()"
   ]
  },
  {
   "cell_type": "code",
   "execution_count": 570,
   "id": "2e67e303",
   "metadata": {},
   "outputs": [
    {
     "name": "stdout",
     "output_type": "stream",
     "text": [
      "The fit time for rbf is 0.008197021484375\n",
      "The fit time for poly is 0.0073529243469238285\n",
      "The fit time for sigmoid is 0.095436429977417\n",
      "The best accuracy score for the training dataset is 0.9972\n",
      "The best hyperparameters are {'kernel': 'rbf'}\n",
      "The accuracy score for the testing dataset is 1.0000\n"
     ]
    }
   ],
   "source": [
    "#Print the list of fit time for the training dataset\n",
    "time_dict['SVM_MY'] = []\n",
    "kernel = ['rbf','poly','sigmoid']\n",
    "for i in range(3):\n",
    "    print('The fit time for {} is {}'.format(kernel[i],grid_result.cv_results_['mean_fit_time'][i]))\n",
    "    time_dict['SVM_MY'].append(grid_result.cv_results_['mean_fit_time'][i])\n",
    "\n",
    "# Print the best accuracy score for the training dataset\n",
    "print(f'The best accuracy score for the training dataset is {grid_result.best_score_:.4f}')\n",
    "# Print the hyperparameters for the best score\n",
    "print(f'The best hyperparameters are {grid_result.best_params_}')\n",
    "# Print the best accuracy score for the testing dataset\n",
    "print(f'The accuracy score for the testing dataset is {grid_search.score(X_test, y_test):.4f}')\n",
    "accuracy_dict['SVM_MY'] = grid_result.cv_results_['split0_test_accuracy']"
   ]
  },
  {
   "cell_type": "markdown",
   "id": "fc054dc5",
   "metadata": {},
   "source": [
    "We will choose rbf as the best kernel because it has the biggest accuracy value with a tight boxplot range. \n",
    "In addition, grid_result.best_params_ gives the same answer."
   ]
  },
  {
   "cell_type": "code",
   "execution_count": 571,
   "id": "7d096e9c",
   "metadata": {},
   "outputs": [
    {
     "name": "stdout",
     "output_type": "stream",
     "text": [
      "Accuracy for  {'kernel': 'rbf'} is  1.0\n",
      "{'kernel': 'rbf'}  --- 0.018035173416137695 seconds ---\n"
     ]
    }
   ],
   "source": [
    "from sklearn.metrics import accuracy_score\n",
    "# kernel='poly' on validation set:\n",
    "start_time = time.time()\n",
    "X = df_MY.loc[:,1:]\n",
    "y = df_MY.loc[:,0]\n",
    "X_train, X_test, y_train, y_test = train_test_split(X, y, test_size=0.1, random_state=1)\n",
    "model = SVC(kernel='rbf').fit(X_train,y_train)\n",
    "y_pred = model.predict(X_test)\n",
    "print(\"Accuracy for \",grid_result.best_params_, \"is \",accuracy_score(y_test, model.predict(X_test)))\n",
    "# print(\"Score: \",score)\n",
    "# print(\"The average score is \",mean(score))\n",
    "print(grid_result.best_params_, \" --- %s seconds ---\" % (time.time() - start_time))\n",
    "accuracy_test['SVM_pair2'] = accuracy_score(y_test, model.predict(X_test))\n",
    "time_test['SVM_pair2'] = time.time() - start_time"
   ]
  },
  {
   "cell_type": "markdown",
   "id": "00cdd93d",
   "metadata": {},
   "source": [
    "## SVM pair 3"
   ]
  },
  {
   "cell_type": "code",
   "execution_count": 572,
   "id": "15250df9",
   "metadata": {},
   "outputs": [],
   "source": [
    "#Train test split\n",
    "X = df_CZ.loc[:,1:]\n",
    "y = df_CZ.loc[:,0]\n",
    "X_train, X_test, y_train, y_test = train_test_split(X, y, test_size=0.1, random_state=1)\n",
    "\n",
    "svc = SVC()\n",
    "# Define the search space\n",
    "param_grid = { \n",
    "    # Kernel type\n",
    "    \"kernel\": ['rbf', 'poly','sigmoid'],\n",
    "    }\n",
    "# Set up score\n",
    "scoring = ['accuracy']\n",
    "# Set up the k-fold cross-validation\n",
    "kfold = StratifiedKFold(n_splits=5, shuffle=True, random_state=0)"
   ]
  },
  {
   "cell_type": "code",
   "execution_count": 573,
   "id": "1a0eaa40",
   "metadata": {},
   "outputs": [
    {
     "data": {
      "text/plain": [
       "GridSearchCV(cv=StratifiedKFold(n_splits=5, random_state=0, shuffle=True),\n",
       "             estimator=SVC(), n_jobs=-1,\n",
       "             param_grid={'kernel': ['rbf', 'poly', 'sigmoid']},\n",
       "             refit='accuracy', scoring=['accuracy'])"
      ]
     },
     "execution_count": 573,
     "metadata": {},
     "output_type": "execute_result"
    }
   ],
   "source": [
    "# Define grid search\n",
    "grid_search = GridSearchCV(estimator=svc, \n",
    "                           param_grid=param_grid, \n",
    "                           scoring=scoring, \n",
    "                           refit='accuracy', \n",
    "                           n_jobs=-1, \n",
    "                           cv=kfold, \n",
    "                           verbose=0)\n",
    "# Fit grid search\n",
    "grid_result = grid_search.fit(X_train, y_train)\n",
    "# Print grid search summary\n",
    "grid_result"
   ]
  },
  {
   "cell_type": "code",
   "execution_count": 574,
   "id": "85542672",
   "metadata": {},
   "outputs": [
    {
     "data": {
      "image/png": "[encoded data removed]",
      "text/plain": [
       "<Figure size 500x300 with 1 Axes>"
      ]
     },
     "metadata": {},
     "output_type": "display_data"
    }
   ],
   "source": [
    "df_accuracy = pd.DataFrame(list(grid_result.cv_results_.values())[6:11],columns=['rbf','poly','sigmoid'])\n",
    "fig = plt.figure(figsize=(5,3))\n",
    "ax = fig.add_axes([0,0,1,1])\n",
    "bp = ax.boxplot(df_accuracy,labels=['rbf','poly','sigmoid'])\n",
    "plt.ylabel('accuracy')\n",
    "plt.show()"
   ]
  },
  {
   "cell_type": "code",
   "execution_count": 575,
   "id": "573ccd45",
   "metadata": {},
   "outputs": [
    {
     "name": "stdout",
     "output_type": "stream",
     "text": [
      "The fit time for rbf is 0.008055496215820312\n",
      "The fit time for poly is 0.005446577072143554\n",
      "The fit time for sigmoid is 0.07708501815795898\n",
      "The best accuracy score for the training dataset is 1.0000\n",
      "The best hyperparameters are {'kernel': 'rbf'}\n",
      "The accuracy score for the testing dataset is 1.0000\n"
     ]
    }
   ],
   "source": [
    "#Print the list of fit time for the training dataset\n",
    "time_dict['SVM_CZ'] = []\n",
    "\n",
    "kernel = ['rbf','poly','sigmoid']\n",
    "for i in range(3):\n",
    "    print('The fit time for {} is {}'.format(kernel[i],grid_result.cv_results_['mean_fit_time'][i]))\n",
    "    time_dict['SVM_CZ'].append(grid_result.cv_results_['mean_fit_time'][i])\n",
    "\n",
    "# Print the best accuracy score for the training dataset\n",
    "print(f'The best accuracy score for the training dataset is {grid_result.best_score_:.4f}')\n",
    "# Print the hyperparameters for the best score\n",
    "print(f'The best hyperparameters are {grid_result.best_params_}')\n",
    "# Print the best accuracy score for the testing dataset\n",
    "print(f'The accuracy score for the testing dataset is {grid_search.score(X_test, y_test):.4f}')\n",
    "accuracy_dict['SVM_CZ'] = grid_result.cv_results_['split0_test_accuracy']\n"
   ]
  },
  {
   "cell_type": "markdown",
   "id": "d4312631",
   "metadata": {},
   "source": [
    "We will choose rbf as the best kernel because it has the biggest accuracy value with a tight boxplot range. \n",
    "In addition, grid_result.best_params_ gives the same answer."
   ]
  },
  {
   "cell_type": "code",
   "execution_count": 576,
   "id": "33a61d4e",
   "metadata": {},
   "outputs": [
    {
     "name": "stdout",
     "output_type": "stream",
     "text": [
      "Accuracy for  {'kernel': 'rbf'} is  1.0\n",
      "{'kernel': 'rbf'}  --- 0.024997234344482422 seconds ---\n"
     ]
    }
   ],
   "source": [
    "from sklearn.metrics import accuracy_score\n",
    "# kernel='poly' on validation set:\n",
    "start_time = time.time()\n",
    "X = df_CZ.loc[:,1:]\n",
    "y = df_CZ.loc[:,0]\n",
    "X_train, X_test, y_train, y_test = train_test_split(X, y, test_size=0.1, random_state=1)\n",
    "model = SVC(kernel='rbf').fit(X_train,y_train)\n",
    "y_pred = model.predict(X_test)\n",
    "print(\"Accuracy for \",grid_result.best_params_, \"is \",accuracy_score(y_test, model.predict(X_test)))\n",
    "print(grid_result.best_params_, \" --- %s seconds ---\" % (time.time() - start_time))\n",
    "accuracy_test['SVM_pair3'] = accuracy_score(y_test, model.predict(X_test))\n",
    "time_test['SVM_pair3'] = time.time() - start_time"
   ]
  },
  {
   "cell_type": "code",
   "execution_count": null,
   "id": "28c7a7d4",
   "metadata": {},
   "outputs": [],
   "source": []
  },
  {
   "cell_type": "markdown",
   "id": "7862cd19",
   "metadata": {},
   "source": [
    "# Optional extension 3 – Consider more classification models"
   ]
  },
  {
   "cell_type": "markdown",
   "id": "f71bb281",
   "metadata": {},
   "source": [
    "## KNN Multi-class"
   ]
  },
  {
   "cell_type": "code",
   "execution_count": 577,
   "id": "8d8932ec",
   "metadata": {},
   "outputs": [
    {
     "name": "stdout",
     "output_type": "stream",
     "text": [
      "k =  1  --- 9.135568141937256 seconds ---\n",
      "k =  2  --- 8.763498067855835 seconds ---\n",
      "k =  3  --- 10.65313982963562 seconds ---\n",
      "k =  4  --- 12.15618896484375 seconds ---\n",
      "k =  5  --- 12.393649101257324 seconds ---\n",
      "[0.95675, 0.943, 0.95195, 0.95065, 0.95155]\n"
     ]
    }
   ],
   "source": [
    "warnings.filterwarnings('ignore')\n",
    "accuracy = []\n",
    "knn_accuracy = []\n",
    "time_dict['knn_multi'] = []\n",
    "for i in range(1,6):\n",
    "    start_time = time.time()\n",
    "    accuracy.append(cross_validation(df,KNeighborsClassifier(n_neighbors=i)))\n",
    "    knn_accuracy.append(mean(cross_validation(df,KNeighborsClassifier(n_neighbors=i))))\n",
    "    print(\"k = \", i, \" --- %s seconds ---\" % (time.time() - start_time))\n",
    "    time_dict['knn_multi'].append(time.time() - start_time)\n",
    "accuracy_dict['knn_multi'] = knn_accuracy\n",
    "print(knn_accuracy)"
   ]
  },
  {
   "cell_type": "code",
   "execution_count": 580,
   "id": "cd56ae47",
   "metadata": {},
   "outputs": [
    {
     "data": {
      "image/png": "[encoded data removed]",
      "text/plain": [
       "<Figure size 700x500 with 1 Axes>"
      ]
     },
     "metadata": {},
     "output_type": "display_data"
    }
   ],
   "source": [
    "import matplotlib.pyplot as plt\n",
    "\n",
    "fig = plt.figure(figsize=(7,5))\n",
    "ax = fig.add_axes([0,0,1,1])\n",
    "bp = ax.boxplot(accuracy)\n",
    "plt.show()"
   ]
  },
  {
   "cell_type": "code",
   "execution_count": 581,
   "id": "31cdc78c",
   "metadata": {},
   "outputs": [
    {
     "name": "stdout",
     "output_type": "stream",
     "text": [
      "Accuracy for k = 1 is  0.956\n",
      "k = 1 --- 0.9708099365234375 seconds ---\n"
     ]
    }
   ],
   "source": [
    "#choose k = 1 because it has the highest accuracy and a relatively tight boxplot range.\n",
    "from sklearn.metrics import accuracy_score\n",
    "# k = 1 on validation set:\n",
    "start_time = time.time()\n",
    "X = df.loc[:,1:]\n",
    "y = df.loc[:,0]\n",
    "X_train, X_test, y_train, y_test = train_test_split(X, y, test_size=0.1, random_state=1)\n",
    "model = KNeighborsClassifier(n_neighbors=1).fit(X_train,y_train)\n",
    "y_pred = model.predict(X_test)\n",
    "# score = cross_val_score(model, X,y,cv=5)\n",
    "print(\"Accuracy for k = 1 is \",accuracy_score(y_test, model.predict(X_test)))\n",
    "# print(\"Score: \",score)\n",
    "# print(\"The average score is \",mean(score))\n",
    "print(\"k = 1 --- %s seconds ---\" % (time.time() - start_time))\n",
    "accuracy_test['knn_multi'] = accuracy_score(y_test, model.predict(X_test))\n",
    "time_test['knn_multi'] = time.time() - start_time"
   ]
  },
  {
   "cell_type": "markdown",
   "id": "a30332b1",
   "metadata": {},
   "source": [
    "# #Random Forest multi-class"
   ]
  },
  {
   "cell_type": "code",
   "execution_count": 582,
   "id": "14bd198e",
   "metadata": {},
   "outputs": [
    {
     "name": "stdout",
     "output_type": "stream",
     "text": [
      "n =  10  --- 1.8875839710235596 seconds ---\n",
      "n =  20  --- 3.7267520427703857 seconds ---\n",
      "n =  30  --- 5.347146034240723 seconds ---\n",
      "n =  40  --- 6.838735103607178 seconds ---\n",
      "n =  50  --- 8.073830842971802 seconds ---\n",
      "[0.9359, 0.95215, 0.9564, 0.9591500000000001, 0.96085]\n"
     ]
    }
   ],
   "source": [
    "warnings.filterwarnings('ignore')\n",
    "accuracy = []\n",
    "rf_accuracy = []\n",
    "time_dict['rf_multi'] = []\n",
    "estimator_list = [10,20,30,40,50]\n",
    "for i in estimator_list:\n",
    "    start_time = time.time()\n",
    "    accuracy.append(cross_validation(df,RandomForestClassifier(n_estimators=i)))\n",
    "    rf_accuracy.append(mean(cross_validation(df,RandomForestClassifier(n_estimators=i))))\n",
    "    print(\"n = \", i, \" --- %s seconds ---\" % (time.time() - start_time))\n",
    "    time_dict['rf_multi'].append(time.time() - start_time)\n",
    "accuracy_dict['rf_multi'] = rf_accuracy\n",
    "print(rf_accuracy)"
   ]
  },
  {
   "cell_type": "code",
   "execution_count": 583,
   "id": "b3e8a2bf",
   "metadata": {},
   "outputs": [
    {
     "data": {
      "image/png": "[encoded data removed]",
      "text/plain": [
       "<Figure size 500x300 with 1 Axes>"
      ]
     },
     "metadata": {},
     "output_type": "display_data"
    }
   ],
   "source": [
    "import matplotlib.pyplot as plt\n",
    "\n",
    "fig = plt.figure(figsize=(5,3))\n",
    "ax = fig.add_axes([0,0,1,1])\n",
    "bp = ax.boxplot(accuracy)\n",
    "plt.show()"
   ]
  },
  {
   "cell_type": "code",
   "execution_count": 584,
   "id": "ab221930",
   "metadata": {},
   "outputs": [
    {
     "name": "stdout",
     "output_type": "stream",
     "text": [
      "Accuracy for n = 40 is  0.961\n",
      "n = 40 --- 0.8112220764160156 seconds ---\n"
     ]
    }
   ],
   "source": [
    "#choose the second, n = 40, because it has a relatively high accuracy and a very tight boxplot range. In addition, \n",
    "#as we can observe, there is little accuracy increase from 40 to 50, so it would be a less expensive choice to stop \n",
    "#at n = 40.\n",
    "from sklearn.metrics import accuracy_score\n",
    "# n = 40 on validation set:\n",
    "start_time = time.time()\n",
    "X = df.loc[:,1:]\n",
    "y = df.loc[:,0]\n",
    "X_train, X_test, y_train, y_test = train_test_split(X, y, test_size=0.1, random_state=1)\n",
    "model = RandomForestClassifier(n_estimators=40).fit(X_train,y_train)\n",
    "y_pred = model.predict(X_test)\n",
    "# score = cross_val_score(model, X,y,cv=5)\n",
    "print(\"Accuracy for n = 40 is \",accuracy_score(y_test, model.predict(X_test)))\n",
    "# print(\"Score: \",score)\n",
    "# print(\"The average score is \",mean(score))\n",
    "print(\"n = 40 --- %s seconds ---\" % (time.time() - start_time))\n",
    "accuracy_test['rf_multi'] = accuracy_score(y_test, model.predict(X_test))\n",
    "time_test['rf_multi'] = time.time() - start_time"
   ]
  },
  {
   "cell_type": "code",
   "execution_count": null,
   "id": "ed97ecb8",
   "metadata": {},
   "outputs": [],
   "source": []
  },
  {
   "cell_type": "markdown",
   "id": "5759a0dc",
   "metadata": {},
   "source": [
    "# Dimension Reduction"
   ]
  },
  {
   "cell_type": "markdown",
   "id": "eec85ae0",
   "metadata": {},
   "source": [
    "## PCA KNN(pair 1)"
   ]
  },
  {
   "cell_type": "code",
   "execution_count": 585,
   "id": "b6b53b31",
   "metadata": {},
   "outputs": [],
   "source": [
    "from sklearn import decomposition, datasets\n",
    "from sklearn.preprocessing import StandardScaler\n",
    "import numpy as np"
   ]
  },
  {
   "cell_type": "code",
   "execution_count": 586,
   "id": "0ade491f",
   "metadata": {},
   "outputs": [
    {
     "data": {
      "text/html": [
       "<div>\n",
       "<style scoped>\n",
       "    .dataframe tbody tr th:only-of-type {\n",
       "        vertical-align: middle;\n",
       "    }\n",
       "\n",
       "    .dataframe tbody tr th {\n",
       "        vertical-align: top;\n",
       "    }\n",
       "\n",
       "    .dataframe thead th {\n",
       "        text-align: right;\n",
       "    }\n",
       "</style>\n",
       "<table border=\"1\" class=\"dataframe\">\n",
       "  <thead>\n",
       "    <tr style=\"text-align: right;\">\n",
       "      <th></th>\n",
       "      <th>0</th>\n",
       "      <th>1</th>\n",
       "      <th>2</th>\n",
       "      <th>3</th>\n",
       "      <th>4</th>\n",
       "      <th>5</th>\n",
       "      <th>6</th>\n",
       "      <th>7</th>\n",
       "      <th>8</th>\n",
       "      <th>9</th>\n",
       "      <th>10</th>\n",
       "      <th>11</th>\n",
       "      <th>12</th>\n",
       "      <th>13</th>\n",
       "      <th>14</th>\n",
       "      <th>15</th>\n",
       "      <th>16</th>\n",
       "    </tr>\n",
       "  </thead>\n",
       "  <tbody>\n",
       "    <tr>\n",
       "      <th>0</th>\n",
       "      <td>H</td>\n",
       "      <td>4</td>\n",
       "      <td>5</td>\n",
       "      <td>5</td>\n",
       "      <td>4</td>\n",
       "      <td>4</td>\n",
       "      <td>7</td>\n",
       "      <td>7</td>\n",
       "      <td>6</td>\n",
       "      <td>6</td>\n",
       "      <td>7</td>\n",
       "      <td>6</td>\n",
       "      <td>8</td>\n",
       "      <td>3</td>\n",
       "      <td>8</td>\n",
       "      <td>3</td>\n",
       "      <td>8</td>\n",
       "    </tr>\n",
       "    <tr>\n",
       "      <th>1</th>\n",
       "      <td>H</td>\n",
       "      <td>6</td>\n",
       "      <td>9</td>\n",
       "      <td>8</td>\n",
       "      <td>7</td>\n",
       "      <td>6</td>\n",
       "      <td>8</td>\n",
       "      <td>6</td>\n",
       "      <td>6</td>\n",
       "      <td>7</td>\n",
       "      <td>7</td>\n",
       "      <td>7</td>\n",
       "      <td>9</td>\n",
       "      <td>6</td>\n",
       "      <td>8</td>\n",
       "      <td>4</td>\n",
       "      <td>8</td>\n",
       "    </tr>\n",
       "    <tr>\n",
       "      <th>2</th>\n",
       "      <td>H</td>\n",
       "      <td>3</td>\n",
       "      <td>3</td>\n",
       "      <td>4</td>\n",
       "      <td>1</td>\n",
       "      <td>2</td>\n",
       "      <td>8</td>\n",
       "      <td>7</td>\n",
       "      <td>5</td>\n",
       "      <td>6</td>\n",
       "      <td>7</td>\n",
       "      <td>6</td>\n",
       "      <td>8</td>\n",
       "      <td>5</td>\n",
       "      <td>8</td>\n",
       "      <td>3</td>\n",
       "      <td>7</td>\n",
       "    </tr>\n",
       "    <tr>\n",
       "      <th>3</th>\n",
       "      <td>H</td>\n",
       "      <td>3</td>\n",
       "      <td>5</td>\n",
       "      <td>5</td>\n",
       "      <td>4</td>\n",
       "      <td>3</td>\n",
       "      <td>7</td>\n",
       "      <td>8</td>\n",
       "      <td>3</td>\n",
       "      <td>6</td>\n",
       "      <td>10</td>\n",
       "      <td>6</td>\n",
       "      <td>8</td>\n",
       "      <td>3</td>\n",
       "      <td>8</td>\n",
       "      <td>3</td>\n",
       "      <td>8</td>\n",
       "    </tr>\n",
       "    <tr>\n",
       "      <th>4</th>\n",
       "      <td>H</td>\n",
       "      <td>8</td>\n",
       "      <td>12</td>\n",
       "      <td>8</td>\n",
       "      <td>6</td>\n",
       "      <td>4</td>\n",
       "      <td>9</td>\n",
       "      <td>8</td>\n",
       "      <td>4</td>\n",
       "      <td>5</td>\n",
       "      <td>8</td>\n",
       "      <td>4</td>\n",
       "      <td>5</td>\n",
       "      <td>6</td>\n",
       "      <td>9</td>\n",
       "      <td>5</td>\n",
       "      <td>9</td>\n",
       "    </tr>\n",
       "    <tr>\n",
       "      <th>...</th>\n",
       "      <td>...</td>\n",
       "      <td>...</td>\n",
       "      <td>...</td>\n",
       "      <td>...</td>\n",
       "      <td>...</td>\n",
       "      <td>...</td>\n",
       "      <td>...</td>\n",
       "      <td>...</td>\n",
       "      <td>...</td>\n",
       "      <td>...</td>\n",
       "      <td>...</td>\n",
       "      <td>...</td>\n",
       "      <td>...</td>\n",
       "      <td>...</td>\n",
       "      <td>...</td>\n",
       "      <td>...</td>\n",
       "      <td>...</td>\n",
       "    </tr>\n",
       "    <tr>\n",
       "      <th>1468</th>\n",
       "      <td>K</td>\n",
       "      <td>7</td>\n",
       "      <td>9</td>\n",
       "      <td>8</td>\n",
       "      <td>5</td>\n",
       "      <td>4</td>\n",
       "      <td>5</td>\n",
       "      <td>8</td>\n",
       "      <td>4</td>\n",
       "      <td>6</td>\n",
       "      <td>10</td>\n",
       "      <td>11</td>\n",
       "      <td>11</td>\n",
       "      <td>6</td>\n",
       "      <td>12</td>\n",
       "      <td>4</td>\n",
       "      <td>7</td>\n",
       "    </tr>\n",
       "    <tr>\n",
       "      <th>1469</th>\n",
       "      <td>K</td>\n",
       "      <td>5</td>\n",
       "      <td>9</td>\n",
       "      <td>5</td>\n",
       "      <td>4</td>\n",
       "      <td>2</td>\n",
       "      <td>7</td>\n",
       "      <td>7</td>\n",
       "      <td>3</td>\n",
       "      <td>6</td>\n",
       "      <td>9</td>\n",
       "      <td>8</td>\n",
       "      <td>9</td>\n",
       "      <td>6</td>\n",
       "      <td>11</td>\n",
       "      <td>3</td>\n",
       "      <td>7</td>\n",
       "    </tr>\n",
       "    <tr>\n",
       "      <th>1470</th>\n",
       "      <td>K</td>\n",
       "      <td>7</td>\n",
       "      <td>14</td>\n",
       "      <td>8</td>\n",
       "      <td>8</td>\n",
       "      <td>5</td>\n",
       "      <td>9</td>\n",
       "      <td>6</td>\n",
       "      <td>3</td>\n",
       "      <td>5</td>\n",
       "      <td>11</td>\n",
       "      <td>3</td>\n",
       "      <td>7</td>\n",
       "      <td>5</td>\n",
       "      <td>7</td>\n",
       "      <td>4</td>\n",
       "      <td>8</td>\n",
       "    </tr>\n",
       "    <tr>\n",
       "      <th>1471</th>\n",
       "      <td>K</td>\n",
       "      <td>3</td>\n",
       "      <td>1</td>\n",
       "      <td>5</td>\n",
       "      <td>3</td>\n",
       "      <td>3</td>\n",
       "      <td>6</td>\n",
       "      <td>7</td>\n",
       "      <td>4</td>\n",
       "      <td>8</td>\n",
       "      <td>7</td>\n",
       "      <td>6</td>\n",
       "      <td>11</td>\n",
       "      <td>3</td>\n",
       "      <td>8</td>\n",
       "      <td>5</td>\n",
       "      <td>9</td>\n",
       "    </tr>\n",
       "    <tr>\n",
       "      <th>1472</th>\n",
       "      <td>K</td>\n",
       "      <td>5</td>\n",
       "      <td>11</td>\n",
       "      <td>5</td>\n",
       "      <td>8</td>\n",
       "      <td>5</td>\n",
       "      <td>3</td>\n",
       "      <td>8</td>\n",
       "      <td>7</td>\n",
       "      <td>3</td>\n",
       "      <td>6</td>\n",
       "      <td>4</td>\n",
       "      <td>11</td>\n",
       "      <td>3</td>\n",
       "      <td>8</td>\n",
       "      <td>2</td>\n",
       "      <td>11</td>\n",
       "    </tr>\n",
       "  </tbody>\n",
       "</table>\n",
       "<p>1473 rows × 17 columns</p>\n",
       "</div>"
      ],
      "text/plain": [
       "     0   1   2   3   4   5   6   7   8   9   10  11  12  13  14  15  16\n",
       "0     H   4   5   5   4   4   7   7   6   6   7   6   8   3   8   3   8\n",
       "1     H   6   9   8   7   6   8   6   6   7   7   7   9   6   8   4   8\n",
       "2     H   3   3   4   1   2   8   7   5   6   7   6   8   5   8   3   7\n",
       "3     H   3   5   5   4   3   7   8   3   6  10   6   8   3   8   3   8\n",
       "4     H   8  12   8   6   4   9   8   4   5   8   4   5   6   9   5   9\n",
       "...  ..  ..  ..  ..  ..  ..  ..  ..  ..  ..  ..  ..  ..  ..  ..  ..  ..\n",
       "1468  K   7   9   8   5   4   5   8   4   6  10  11  11   6  12   4   7\n",
       "1469  K   5   9   5   4   2   7   7   3   6   9   8   9   6  11   3   7\n",
       "1470  K   7  14   8   8   5   9   6   3   5  11   3   7   5   7   4   8\n",
       "1471  K   3   1   5   3   3   6   7   4   8   7   6  11   3   8   5   9\n",
       "1472  K   5  11   5   8   5   3   8   7   3   6   4  11   3   8   2  11\n",
       "\n",
       "[1473 rows x 17 columns]"
      ]
     },
     "execution_count": 586,
     "metadata": {},
     "output_type": "execute_result"
    }
   ],
   "source": [
    "df_HK"
   ]
  },
  {
   "cell_type": "code",
   "execution_count": 587,
   "id": "622d227f",
   "metadata": {},
   "outputs": [
    {
     "name": "stdout",
     "output_type": "stream",
     "text": [
      "(1473, 4)\n",
      "[[ 2.22174383 -1.19890474 -0.72664942 -0.94667088]\n",
      " [-3.79481952  2.10002446 -0.10746407 -0.33271212]\n",
      " [ 4.42163772 -4.20210656 -1.64977553 -1.9034165 ]\n",
      " ...\n",
      " [-7.73453561  3.36194963 -1.75062613 -2.80873931]\n",
      " [ 3.27742613 -6.18677341 -0.62463166  1.60694844]\n",
      " [-0.19863201  5.00991357  1.57472357  4.10136952]]\n"
     ]
    }
   ],
   "source": [
    "# std_slc = StandardScaler()\n",
    "X = df_HK.loc[:,1:]\n",
    "y = df_HK.loc[:,0]\n",
    "# X_std = std_slc.fit_transform(X)\n",
    "pca = decomposition.PCA(n_components=4)\n",
    "X_pca = pca.fit_transform(X)\n",
    "print(X_pca.shape)\n",
    "print(X_pca)\n",
    "df_pca = pd.DataFrame(X_pca)\n",
    "# print(df_pca)"
   ]
  },
  {
   "cell_type": "code",
   "execution_count": 588,
   "id": "22e26bea",
   "metadata": {},
   "outputs": [],
   "source": [
    "def cross_validation_pca(df_X,df,model):\n",
    "    X = df_X\n",
    "    y = df.loc[:,0]\n",
    "    kf = KFold(n_splits=5)\n",
    "    score = []\n",
    "    for train_index, test_index in kf.split(X):\n",
    "        X_train, X_test, y_train, y_test = X.iloc[train_index],X.iloc[test_index], \\\n",
    "                                            y.iloc[train_index],y.iloc[test_index]\n",
    "        score.append(get_score((model),X_train, X_test, y_train, y_test))\n",
    "    return score"
   ]
  },
  {
   "cell_type": "code",
   "execution_count": 589,
   "id": "9bdfd157",
   "metadata": {},
   "outputs": [
    {
     "name": "stdout",
     "output_type": "stream",
     "text": [
      "k =  1  --- 0.1471080780029297 seconds ---\n",
      "k =  2  --- 0.09793519973754883 seconds ---\n",
      "k =  3  --- 0.09275317192077637 seconds ---\n",
      "k =  4  --- 0.10971283912658691 seconds ---\n",
      "k =  5  --- 0.09470105171203613 seconds ---\n",
      "[0.8506122448979592, 0.855270379338176, 0.8533310273261847, 0.8525723509742881, 0.8444851839040701]\n"
     ]
    }
   ],
   "source": [
    "warnings.filterwarnings('ignore')\n",
    "accuracy = []\n",
    "knn_accuracy = []\n",
    "time_dict['PCA_knn_HK'] = []\n",
    "for i in range(1,6):\n",
    "    start_time = time.time()\n",
    "    accuracy.append(cross_validation_pca(df_pca,df_HK,KNeighborsClassifier(n_neighbors=i)))\n",
    "    knn_accuracy.append(mean(cross_validation_pca(df_pca,df_HK,KNeighborsClassifier(n_neighbors=i))))\n",
    "    print(\"k = \", i, \" --- %s seconds ---\" % (time.time() - start_time))\n",
    "    time_dict['PCA_knn_HK'].append(time.time() - start_time)\n",
    "accuracy_dict['PCA_knn_HK'] = knn_accuracy\n",
    "print(knn_accuracy)"
   ]
  },
  {
   "cell_type": "code",
   "execution_count": 590,
   "id": "1d7b6db5",
   "metadata": {},
   "outputs": [
    {
     "data": {
      "image/png": "[encoded data removed]",
      "text/plain": [
       "<Figure size 700x500 with 1 Axes>"
      ]
     },
     "metadata": {},
     "output_type": "display_data"
    }
   ],
   "source": [
    "import matplotlib.pyplot as plt\n",
    "\n",
    "fig = plt.figure(figsize=(7,5))\n",
    "ax = fig.add_axes([0,0,1,1])\n",
    "bp = ax.boxplot(accuracy)\n",
    "plt.show()"
   ]
  },
  {
   "cell_type": "code",
   "execution_count": 591,
   "id": "63e8d2df",
   "metadata": {},
   "outputs": [],
   "source": [
    "#choose k = 2 because it has the highest accuracy with a short running time."
   ]
  },
  {
   "cell_type": "code",
   "execution_count": 592,
   "id": "501c88fc",
   "metadata": {},
   "outputs": [
    {
     "name": "stdout",
     "output_type": "stream",
     "text": [
      "Accuracy for k = 2 is  0.7972972972972973\n",
      "k = 2 --- 0.02367997169494629 seconds ---\n"
     ]
    }
   ],
   "source": [
    "from sklearn.metrics import accuracy_score\n",
    "# k = 2 on validation set:\n",
    "start_time = time.time()\n",
    "X = df_pca.loc[:,1:]\n",
    "y = df_HK.loc[:,0]\n",
    "X_train, X_test, y_train, y_test = train_test_split(X, y, test_size=0.1, random_state=1)\n",
    "model = KNeighborsClassifier(n_neighbors=2).fit(X_train,y_train)\n",
    "y_pred = model.predict(X_test)\n",
    "# score = cross_val_score(model, X,y,cv=5)\n",
    "print(\"Accuracy for k = 2 is \",accuracy_score(y_test, model.predict(X_test)))\n",
    "# print(\"Score: \",score)\n",
    "# print(\"The average score is \",mean(score))\n",
    "print(\"k = 2 --- %s seconds ---\" % (time.time() - start_time))\n",
    "accuracy_test['PCA_knn_pair1'] = accuracy_score(y_test, model.predict(X_test))\n",
    "time_test['PCA_knn_pair1'] = time.time() - start_time"
   ]
  },
  {
   "cell_type": "markdown",
   "id": "ff73cc04",
   "metadata": {},
   "source": [
    "## PCA KNN(pair 2)"
   ]
  },
  {
   "cell_type": "code",
   "execution_count": 593,
   "id": "b06e6f20",
   "metadata": {},
   "outputs": [
    {
     "name": "stdout",
     "output_type": "stream",
     "text": [
      "(1578, 4)\n",
      "[[15.98288913 -1.69516675  0.15510644 -7.27913942]\n",
      " [ 7.07378756 -3.11029448 -1.96716763  3.51230514]\n",
      " [ 6.61924946 -6.45500609  0.84734455 -1.46461401]\n",
      " ...\n",
      " [-5.31745664 -2.66566614  5.84847774  0.89669456]\n",
      " [-2.86420512 -3.3674364   0.3311286  -2.19845436]\n",
      " [-4.61207108 -3.72465328  0.68759044  0.68160882]]\n"
     ]
    }
   ],
   "source": [
    "# std_slc = StandardScaler()\n",
    "X = df_MY.loc[:,1:]\n",
    "y = df_MY.loc[:,0]\n",
    "# X_std = std_slc.fit_transform(X)\n",
    "pca = decomposition.PCA(n_components=4)\n",
    "X_pca = pca.fit_transform(X)\n",
    "print(X_pca.shape)\n",
    "print(X_pca)\n",
    "df_pca = pd.DataFrame(X_pca)\n",
    "# print(df_pca)"
   ]
  },
  {
   "cell_type": "code",
   "execution_count": 594,
   "id": "33700dcf",
   "metadata": {},
   "outputs": [
    {
     "name": "stdout",
     "output_type": "stream",
     "text": [
      "k =  1  --- 0.13643908500671387 seconds ---\n",
      "k =  2  --- 0.10055017471313477 seconds ---\n",
      "k =  3  --- 0.10057902336120605 seconds ---\n",
      "k =  4  --- 0.131547212600708 seconds ---\n",
      "k =  5  --- 0.13161587715148926 seconds ---\n",
      "[0.9740084388185654, 0.9714567008237894, 0.9752762708458911, 0.9720976491862569, 0.970839863371509]\n"
     ]
    }
   ],
   "source": [
    "warnings.filterwarnings('ignore')\n",
    "accuracy = []\n",
    "knn_accuracy = []\n",
    "time_dict['PCA_knn_MY'] = []\n",
    "for i in range(1,6):\n",
    "    start_time = time.time()\n",
    "    accuracy.append(cross_validation_pca(df_pca,df_MY,KNeighborsClassifier(n_neighbors=i)))\n",
    "    knn_accuracy.append(mean(cross_validation_pca(df_pca,df_MY,KNeighborsClassifier(n_neighbors=i))))\n",
    "    print(\"k = \", i, \" --- %s seconds ---\" % (time.time() - start_time))\n",
    "    time_dict['PCA_knn_MY'].append(time.time() - start_time)\n",
    "accuracy_dict['PCA_knn_MY'] = knn_accuracy\n",
    "print(knn_accuracy)"
   ]
  },
  {
   "cell_type": "code",
   "execution_count": 595,
   "id": "100e8254",
   "metadata": {},
   "outputs": [
    {
     "data": {
      "image/png": "[encoded data removed]",
      "text/plain": [
       "<Figure size 700x500 with 1 Axes>"
      ]
     },
     "metadata": {},
     "output_type": "display_data"
    }
   ],
   "source": [
    "import matplotlib.pyplot as plt\n",
    "\n",
    "fig = plt.figure(figsize=(7,5))\n",
    "ax = fig.add_axes([0,0,1,1])\n",
    "bp = ax.boxplot(accuracy)\n",
    "plt.show()"
   ]
  },
  {
   "cell_type": "code",
   "execution_count": 596,
   "id": "72c0bed7",
   "metadata": {},
   "outputs": [
    {
     "name": "stdout",
     "output_type": "stream",
     "text": [
      "Accuracy for k = 2 is  0.8354430379746836\n",
      "k = 2 --- 0.018266677856445312 seconds ---\n"
     ]
    }
   ],
   "source": [
    "#choose k = 2 because it has the highest accuracy with a short running time.\n",
    "\n",
    "# k = 2 on validation set:\n",
    "start_time = time.time()\n",
    "X = df_pca.loc[:,1:]\n",
    "y = df_MY.loc[:,0]\n",
    "X_train, X_test, y_train, y_test = train_test_split(X, y, test_size=0.1, random_state=1)\n",
    "model = KNeighborsClassifier(n_neighbors=2).fit(X_train,y_train)\n",
    "y_pred = model.predict(X_test)\n",
    "# score = cross_val_score(model, X,y,cv=5)\n",
    "print(\"Accuracy for k = 2 is \",accuracy_score(y_test, model.predict(X_test)))\n",
    "# print(\"Score: \",score)\n",
    "# print(\"The average score is \",mean(score))\n",
    "print(\"k = 2 --- %s seconds ---\" % (time.time() - start_time))\n",
    "accuracy_test['PCA_knn_pair2'] = accuracy_score(y_test, model.predict(X_test))\n",
    "time_test['PCA_knn_pair2'] = time.time() - start_time"
   ]
  },
  {
   "cell_type": "markdown",
   "id": "5f4b48fb",
   "metadata": {},
   "source": [
    "## PCA KNN(pair 3)"
   ]
  },
  {
   "cell_type": "code",
   "execution_count": 597,
   "id": "c0875487",
   "metadata": {},
   "outputs": [
    {
     "name": "stdout",
     "output_type": "stream",
     "text": [
      "(1470, 4)\n",
      "[[ 2.40468162  2.51486187 -1.78675028 -0.59559149]\n",
      " [ 3.06522143  3.56890103 -2.9440474   6.85729382]\n",
      " [ 2.55652123  0.97231593  0.15556602 -2.54929184]\n",
      " ...\n",
      " [ 1.14305426 -4.72588376 -5.1073319   1.73599676]\n",
      " [ 3.54571033 -4.64063411 -5.89188224  3.00934829]\n",
      " [-3.3018056  -2.96091232  1.33735572  1.96778979]]\n"
     ]
    }
   ],
   "source": [
    "# std_slc = StandardScaler()\n",
    "X = df_CZ.loc[:,1:]\n",
    "y = df_CZ.loc[:,0]\n",
    "# X_std = std_slc.fit_transform(X)\n",
    "pca = decomposition.PCA(n_components=4)\n",
    "X_pca = pca.fit_transform(X)\n",
    "print(X_pca.shape)\n",
    "print(X_pca)\n",
    "df_pca = pd.DataFrame(X_pca)\n",
    "# print(df_pca)"
   ]
  },
  {
   "cell_type": "code",
   "execution_count": 598,
   "id": "85476157",
   "metadata": {},
   "outputs": [
    {
     "name": "stdout",
     "output_type": "stream",
     "text": [
      "k =  1  --- 0.12921810150146484 seconds ---\n",
      "k =  2  --- 0.10257220268249512 seconds ---\n",
      "k =  3  --- 0.09403777122497559 seconds ---\n",
      "k =  4  --- 0.10668396949768066 seconds ---\n",
      "k =  5  --- 0.09595704078674316 seconds ---\n",
      "[0.9965986394557823, 0.9952380952380953, 0.9952380952380953, 0.9972789115646259, 0.9952380952380953]\n"
     ]
    }
   ],
   "source": [
    "warnings.filterwarnings('ignore')\n",
    "accuracy = []\n",
    "knn_accuracy = []\n",
    "time_dict['PCA_knn_CZ'] = []\n",
    "for i in range(1,6):\n",
    "    start_time = time.time()\n",
    "    accuracy.append(cross_validation_pca(df_pca,df_CZ,KNeighborsClassifier(n_neighbors=i)))\n",
    "    knn_accuracy.append(mean(cross_validation_pca(df_pca,df_CZ,KNeighborsClassifier(n_neighbors=i))))\n",
    "    print(\"k = \", i, \" --- %s seconds ---\" % (time.time() - start_time))\n",
    "    time_dict['PCA_knn_CZ'].append(time.time() - start_time)\n",
    "accuracy_dict['PCA_knn_CZ'] = knn_accuracy\n",
    "print(knn_accuracy)"
   ]
  },
  {
   "cell_type": "code",
   "execution_count": 599,
   "id": "486ca6b7",
   "metadata": {},
   "outputs": [
    {
     "data": {
      "image/png": "[encoded data removed]",
      "text/plain": [
       "<Figure size 700x500 with 1 Axes>"
      ]
     },
     "metadata": {},
     "output_type": "display_data"
    }
   ],
   "source": [
    "import matplotlib.pyplot as plt\n",
    "\n",
    "fig = plt.figure(figsize=(7,5))\n",
    "ax = fig.add_axes([0,0,1,1])\n",
    "bp = ax.boxplot(accuracy)\n",
    "plt.show()"
   ]
  },
  {
   "cell_type": "code",
   "execution_count": 600,
   "id": "cf3b7f6f",
   "metadata": {},
   "outputs": [
    {
     "name": "stdout",
     "output_type": "stream",
     "text": [
      "Accuracy for k = 4 is  0.9931972789115646\n",
      "k = 4 --- 0.01740288734436035 seconds ---\n"
     ]
    }
   ],
   "source": [
    "#choose k = 4 because it has the highest accuracy and a relatively tight boxplot expansion.\n",
    "from sklearn.metrics import accuracy_score\n",
    "# k = 4 on validation set:\n",
    "start_time = time.time()\n",
    "X = df_pca.loc[:,1:]\n",
    "y = df_CZ.loc[:,0]\n",
    "X_train, X_test, y_train, y_test = train_test_split(X, y, test_size=0.1, random_state=1)\n",
    "model = KNeighborsClassifier(n_neighbors=4).fit(X_train,y_train)\n",
    "y_pred = model.predict(X_test)\n",
    "# score = cross_val_score(model, X,y,cv=5)\n",
    "print(\"Accuracy for k = 4 is \",accuracy_score(y_test, model.predict(X_test)))\n",
    "# print(\"Score: \",score)\n",
    "# print(\"The average score is \",mean(score))\n",
    "print(\"k = 4 --- %s seconds ---\" % (time.time() - start_time))\n",
    "accuracy_test['PCA_knn_pair3'] = accuracy_score(y_test, model.predict(X_test))\n",
    "time_test['PCA_knn_pair3'] = time.time() - start_time"
   ]
  },
  {
   "cell_type": "markdown",
   "id": "e0707ead",
   "metadata": {},
   "source": [
    "## PCA Random Forest (pair 1)"
   ]
  },
  {
   "cell_type": "code",
   "execution_count": 601,
   "id": "72f7fa57",
   "metadata": {},
   "outputs": [
    {
     "name": "stdout",
     "output_type": "stream",
     "text": [
      "(1473, 4)\n",
      "[[ 2.22174383 -1.19890474 -0.72664933 -0.94667103]\n",
      " [-3.79481953  2.10002444 -0.10746182 -0.33271939]\n",
      " [ 4.42163772 -4.20210657 -1.64977456 -1.90341961]\n",
      " ...\n",
      " [-7.7345356   3.36194964 -1.75062686 -2.80873706]\n",
      " [ 3.27742612 -6.18677343 -0.62463002  1.60694291]\n",
      " [-0.198632    5.00991358  1.57472247  4.10137321]]\n"
     ]
    }
   ],
   "source": [
    "# std_slc = StandardScaler()\n",
    "X = df_HK.loc[:,1:]\n",
    "y = df_HK.loc[:,0]\n",
    "# X_std = std_slc.fit_transform(X)\n",
    "pca = decomposition.PCA(n_components=4)\n",
    "X_pca = pca.fit_transform(X)\n",
    "print(X_pca.shape)\n",
    "print(X_pca)\n",
    "df_pca = pd.DataFrame(X_pca)\n",
    "# print(df_pca)"
   ]
  },
  {
   "cell_type": "code",
   "execution_count": 602,
   "id": "a99805ec",
   "metadata": {},
   "outputs": [
    {
     "name": "stdout",
     "output_type": "stream",
     "text": [
      "n =  10  --- 0.2452831268310547 seconds ---\n",
      "n =  20  --- 0.4348621368408203 seconds ---\n",
      "n =  30  --- 0.646306037902832 seconds ---\n",
      "n =  40  --- 0.8377847671508789 seconds ---\n",
      "n =  50  --- 0.9693129062652588 seconds ---\n",
      "[0.828202467427649, 0.8275221953188054, 0.8336285022483569, 0.8356647065605903, 0.8275198893116569]\n"
     ]
    }
   ],
   "source": [
    "warnings.filterwarnings('ignore')\n",
    "accuracy = []\n",
    "rf_accuracy = []\n",
    "time_dict['PCA_rf_HK'] = []\n",
    "estimator_list = [10,20,30,40,50]\n",
    "for i in estimator_list:\n",
    "    start_time = time.time()\n",
    "    accuracy.append(cross_validation_pca(df_pca,df_HK,RandomForestClassifier(n_estimators=i)))\n",
    "    rf_accuracy.append(mean(cross_validation_pca(df_pca,df_HK,RandomForestClassifier(n_estimators=i))))\n",
    "    print(\"n = \", i, \" --- %s seconds ---\" % (time.time() - start_time))\n",
    "    time_dict['PCA_rf_HK'].append(time.time() - start_time)\n",
    "accuracy_dict['PCA_rf_HK'] = rf_accuracy\n",
    "print(rf_accuracy)"
   ]
  },
  {
   "cell_type": "code",
   "execution_count": 603,
   "id": "97d63b02",
   "metadata": {},
   "outputs": [
    {
     "data": {
      "image/png": "[encoded data removed]",
      "text/plain": [
       "<Figure size 500x300 with 1 Axes>"
      ]
     },
     "metadata": {},
     "output_type": "display_data"
    }
   ],
   "source": [
    "fig = plt.figure(figsize=(5,3))\n",
    "ax = fig.add_axes([0,0,1,1])\n",
    "bp = ax.boxplot(accuracy)\n",
    "plt.show()"
   ]
  },
  {
   "cell_type": "code",
   "execution_count": 604,
   "id": "c9a782aa",
   "metadata": {},
   "outputs": [
    {
     "name": "stdout",
     "output_type": "stream",
     "text": [
      "Accuracy for n = 30 is  0.8445945945945946\n",
      "n = 30 --- 0.08349013328552246 seconds ---\n"
     ]
    }
   ],
   "source": [
    "#choose the third, n = 30, because it has a relatively high accuracy and the tightest boxplot range.\n",
    "\n",
    "# n = 30 on validation set:\n",
    "start_time = time.time()\n",
    "X = df_pca.loc[:,1:]\n",
    "y = df_HK.loc[:,0]\n",
    "X_train, X_test, y_train, y_test = train_test_split(X, y, test_size=0.1, random_state=1)\n",
    "model = RandomForestClassifier(n_estimators=30).fit(X_train,y_train)\n",
    "y_pred = model.predict(X_test)\n",
    "# score = cross_val_score(model, X,y,cv=5)\n",
    "print(\"Accuracy for n = 30 is \",accuracy_score(y_test, model.predict(X_test)))\n",
    "# print(\"Score: \",score)\n",
    "# print(\"The average score is \",mean(score))\n",
    "print(\"n = 30 --- %s seconds ---\" % (time.time() - start_time))\n",
    "accuracy_test['PCA_rf_pair1'] = accuracy_score(y_test, model.predict(X_test))\n",
    "time_test['PCA_rf_pair1'] = time.time() - start_time"
   ]
  },
  {
   "cell_type": "markdown",
   "id": "21bf1806",
   "metadata": {},
   "source": [
    "## PCA Random Forest (pair 2)"
   ]
  },
  {
   "cell_type": "code",
   "execution_count": 605,
   "id": "fd4b6cad",
   "metadata": {},
   "outputs": [
    {
     "name": "stdout",
     "output_type": "stream",
     "text": [
      "(1578, 4)\n",
      "[[15.98288913 -1.69516679  0.15511216 -7.27913576]\n",
      " [ 7.07378754 -3.11029467 -1.96716254  3.51224772]\n",
      " [ 6.61924944 -6.45500639  0.84736107 -1.46466666]\n",
      " ...\n",
      " [-5.31745666 -2.66566637  5.84848993  0.89665133]\n",
      " [-2.86420512 -3.36743649  0.33113257 -2.19847691]\n",
      " [-4.61207107 -3.72465324  0.68759114  0.68162696]]\n"
     ]
    }
   ],
   "source": [
    "# std_slc = StandardScaler()\n",
    "X = df_MY.loc[:,1:]\n",
    "y = df_MY.loc[:,0]\n",
    "# X_std = std_slc.fit_transform(X)\n",
    "pca = decomposition.PCA(n_components=4)\n",
    "X_pca = pca.fit_transform(X)\n",
    "print(X_pca.shape)\n",
    "print(X_pca)\n",
    "df_pca = pd.DataFrame(X_pca)\n",
    "# print(df_pca)"
   ]
  },
  {
   "cell_type": "code",
   "execution_count": 606,
   "id": "aead436a",
   "metadata": {},
   "outputs": [
    {
     "name": "stdout",
     "output_type": "stream",
     "text": [
      "n =  10  --- 0.23204374313354492 seconds ---\n",
      "n =  20  --- 0.3687901496887207 seconds ---\n",
      "n =  30  --- 0.5556261539459229 seconds ---\n",
      "n =  40  --- 0.7307910919189453 seconds ---\n",
      "n =  50  --- 0.9356799125671387 seconds ---\n",
      "[0.9714707655213984, 0.9740124573035965, 0.9771830419931685, 0.972748643761302, 0.9765501306007635]\n"
     ]
    }
   ],
   "source": [
    "warnings.filterwarnings('ignore')\n",
    "accuracy = []\n",
    "rf_accuracy = []\n",
    "time_dict['PCA_rf_MY'] = []\n",
    "estimator_list = [10,20,30,40,50]\n",
    "for i in estimator_list:\n",
    "    start_time = time.time()\n",
    "    accuracy.append(cross_validation_pca(df_pca,df_MY,RandomForestClassifier(n_estimators=i)))\n",
    "    rf_accuracy.append(mean(cross_validation_pca(df_pca,df_MY,RandomForestClassifier(n_estimators=i))))\n",
    "    print(\"n = \", i, \" --- %s seconds ---\" % (time.time() - start_time))\n",
    "    time_dict['PCA_rf_MY'].append(time.time() - start_time)\n",
    "accuracy_dict['PCA_rf_MY'] = rf_accuracy\n",
    "print(rf_accuracy)"
   ]
  },
  {
   "cell_type": "code",
   "execution_count": 607,
   "id": "e910cacb",
   "metadata": {},
   "outputs": [
    {
     "data": {
      "image/png": "[encoded data removed]",
      "text/plain": [
       "<Figure size 500x300 with 1 Axes>"
      ]
     },
     "metadata": {},
     "output_type": "display_data"
    }
   ],
   "source": [
    "fig = plt.figure(figsize=(5,3))\n",
    "ax = fig.add_axes([0,0,1,1])\n",
    "bp = ax.boxplot(accuracy)\n",
    "plt.show()"
   ]
  },
  {
   "cell_type": "code",
   "execution_count": 608,
   "id": "7523e03d",
   "metadata": {},
   "outputs": [
    {
     "name": "stdout",
     "output_type": "stream",
     "text": [
      "Accuracy for n = 40 is  0.8481012658227848\n",
      "n = 40 --- 0.0996859073638916 seconds ---\n"
     ]
    }
   ],
   "source": [
    "#choose the forth, n = 40, because it has the highest accuracy and the tightest boxplot range.\n",
    "\n",
    "# n = 40 on validation set:\n",
    "start_time = time.time()\n",
    "X = df_pca.loc[:,1:]\n",
    "y = df_MY.loc[:,0]\n",
    "X_train, X_test, y_train, y_test = train_test_split(X, y, test_size=0.1, random_state=1)\n",
    "model = RandomForestClassifier(n_estimators=40).fit(X_train,y_train)\n",
    "y_pred = model.predict(X_test)\n",
    "# score = cross_val_score(model, X,y,cv=5)\n",
    "print(\"Accuracy for n = 40 is \",accuracy_score(y_test, model.predict(X_test)))\n",
    "# print(\"Score: \",score)\n",
    "# print(\"The average score is \",mean(score))\n",
    "print(\"n = 40 --- %s seconds ---\" % (time.time() - start_time))\n",
    "accuracy_test['PCA_rf_pair2'] = accuracy_score(y_test, model.predict(X_test))\n",
    "time_test['PCA_rf_pair2'] = time.time() - start_time"
   ]
  },
  {
   "cell_type": "markdown",
   "id": "f1946e3f",
   "metadata": {},
   "source": [
    "## PCA Random Forest (pair 3)"
   ]
  },
  {
   "cell_type": "code",
   "execution_count": 609,
   "id": "76a57218",
   "metadata": {},
   "outputs": [
    {
     "name": "stdout",
     "output_type": "stream",
     "text": [
      "(1470, 4)\n",
      "[[ 2.40468158  2.51486168 -1.78675144 -0.59559637]\n",
      " [ 3.06522163  3.56890179 -2.94404251  6.85731966]\n",
      " [ 2.55652116  0.97231564  0.15556426 -2.54930053]\n",
      " ...\n",
      " [ 1.14305424 -4.7258838  -5.10733216  1.7359951 ]\n",
      " [ 3.54571035 -4.64063401 -5.89188163  3.00935136]\n",
      " [-3.30180562 -2.96091237  1.3373553   1.96778719]]\n"
     ]
    }
   ],
   "source": [
    "# std_slc = StandardScaler()\n",
    "X = df_CZ.loc[:,1:]\n",
    "y = df_CZ.loc[:,0]\n",
    "# X_std = std_slc.fit_transform(X)\n",
    "pca = decomposition.PCA(n_components=4)\n",
    "X_pca = pca.fit_transform(X)\n",
    "print(X_pca.shape)\n",
    "print(X_pca)\n",
    "df_pca = pd.DataFrame(X_pca)\n",
    "# print(df_pca)"
   ]
  },
  {
   "cell_type": "code",
   "execution_count": 610,
   "id": "a1bf0375",
   "metadata": {},
   "outputs": [
    {
     "name": "stdout",
     "output_type": "stream",
     "text": [
      "n =  10  --- 0.20940279960632324 seconds ---\n",
      "n =  20  --- 0.29584217071533203 seconds ---\n",
      "n =  30  --- 0.4913358688354492 seconds ---\n",
      "n =  40  --- 0.5785400867462158 seconds ---\n",
      "n =  50  --- 0.7444958686828613 seconds ---\n",
      "[0.9952380952380953, 0.9952380952380953, 0.9952380952380953, 0.9952380952380953, 0.9952380952380953]\n"
     ]
    }
   ],
   "source": [
    "warnings.filterwarnings('ignore')\n",
    "accuracy = []\n",
    "rf_accuracy = []\n",
    "time_dict['PCA_knn_CZ'] = []\n",
    "estimator_list = [10,20,30,40,50]\n",
    "for i in estimator_list:\n",
    "    start_time = time.time()\n",
    "    accuracy.append(cross_validation_pca(df_pca,df_CZ,RandomForestClassifier(n_estimators=i)))\n",
    "    rf_accuracy.append(mean(cross_validation_pca(df_pca,df_CZ,RandomForestClassifier(n_estimators=i))))\n",
    "    print(\"n = \", i, \" --- %s seconds ---\" % (time.time() - start_time))\n",
    "    time_dict['PCA_knn_CZ'].append(time.time() - start_time)\n",
    "accuracy_dict['PCA_knn_CZ'] = rf_accuracy\n",
    "print(rf_accuracy)"
   ]
  },
  {
   "cell_type": "code",
   "execution_count": 611,
   "id": "62858f76",
   "metadata": {},
   "outputs": [
    {
     "data": {
      "image/png": "[encoded data removed]",
      "text/plain": [
       "<Figure size 500x300 with 1 Axes>"
      ]
     },
     "metadata": {},
     "output_type": "display_data"
    }
   ],
   "source": [
    "fig = plt.figure(figsize=(5,3))\n",
    "ax = fig.add_axes([0,0,1,1])\n",
    "bp = ax.boxplot(accuracy)\n",
    "plt.show()"
   ]
  },
  {
   "cell_type": "code",
   "execution_count": 612,
   "id": "80c928ce",
   "metadata": {},
   "outputs": [
    {
     "name": "stdout",
     "output_type": "stream",
     "text": [
      "Accuracy for n = 20 is  0.9931972789115646\n",
      "n = 20 --- 0.0459439754486084 seconds ---\n"
     ]
    }
   ],
   "source": [
    "#choose the second, n = 20, because it has a relatively high accuracy and a relatively tight boxplot range.\n",
    "\n",
    "# n = 20 on validation set:\n",
    "start_time = time.time()\n",
    "X = df_pca.loc[:,1:]\n",
    "y = df_CZ.loc[:,0]\n",
    "X_train, X_test, y_train, y_test = train_test_split(X, y, test_size=0.1, random_state=1)\n",
    "model = RandomForestClassifier(n_estimators=20).fit(X_train,y_train)\n",
    "y_pred = model.predict(X_test)\n",
    "# score = cross_val_score(model, X,y,cv=5)\n",
    "print(\"Accuracy for n = 20 is \",accuracy_score(y_test, model.predict(X_test)))\n",
    "# print(\"Score: \",score)\n",
    "# print(\"The average score is \",mean(score))\n",
    "print(\"n = 20 --- %s seconds ---\" % (time.time() - start_time))\n",
    "accuracy_test['PCA_rf_pair3'] = accuracy_score(y_test, model.predict(X_test))\n",
    "time_test['PCA_rf_pair3'] = time.time() - start_time"
   ]
  },
  {
   "cell_type": "markdown",
   "id": "ba774de4",
   "metadata": {},
   "source": [
    "## PCA KNN multi-class"
   ]
  },
  {
   "cell_type": "code",
   "execution_count": 615,
   "id": "be95625e",
   "metadata": {},
   "outputs": [
    {
     "name": "stdout",
     "output_type": "stream",
     "text": [
      "(20000, 4)\n",
      "[[-3.81809063  5.57464822 -2.21938314  0.09467682]\n",
      " [ 2.95817463 -3.46925408 -3.58511729 -2.41149788]\n",
      " [ 4.88510317 -2.83614995 -3.8694835  -3.14087459]\n",
      " ...\n",
      " [ 2.6601273   7.3781986  -2.43651833 -0.32886173]\n",
      " [-5.74806126 -0.69130293 -3.62635301 -0.49394953]\n",
      " [ 0.83470661 -4.60354321 -1.06670602 -5.04201292]]\n"
     ]
    }
   ],
   "source": [
    "# std_slc = StandardScaler()\n",
    "X = df.loc[:,1:]\n",
    "y = df.loc[:,0]\n",
    "# X_std = std_slc.fit_transform(X)\n",
    "pca = decomposition.PCA(n_components=4)\n",
    "X_pca = pca.fit_transform(X)\n",
    "print(X_pca.shape)\n",
    "print(X_pca)\n",
    "df_pca = pd.DataFrame(X_pca)\n",
    "# print(df_pca)"
   ]
  },
  {
   "cell_type": "code",
   "execution_count": 616,
   "id": "6ebe208e",
   "metadata": {},
   "outputs": [
    {
     "name": "stdout",
     "output_type": "stream",
     "text": [
      "k =  1  --- 1.1713171005249023 seconds ---\n",
      "k =  2  --- 1.2239949703216553 seconds ---\n",
      "k =  3  --- 1.1715540885925293 seconds ---\n",
      "k =  4  --- 1.1752898693084717 seconds ---\n",
      "k =  5  --- 1.3088347911834717 seconds ---\n",
      "[0.60325, 0.5799, 0.60035, 0.60515, 0.61135]\n"
     ]
    }
   ],
   "source": [
    "warnings.filterwarnings('ignore')\n",
    "accuracy = []\n",
    "knn_accuracy = []\n",
    "time_dict['PCA_knn_multi'] = []\n",
    "for i in range(1,6):\n",
    "    start_time = time.time()\n",
    "    accuracy.append(cross_validation_pca(df_pca,df,KNeighborsClassifier(n_neighbors=i)))\n",
    "    knn_accuracy.append(mean(cross_validation_pca(df_pca,df,KNeighborsClassifier(n_neighbors=i))))\n",
    "    print(\"k = \", i, \" --- %s seconds ---\" % (time.time() - start_time))\n",
    "    time_dict['PCA_knn_multi'].append(time.time() - start_time)\n",
    "accuracy_dict['PCA_knn_multi'] = knn_accuracy\n",
    "print(knn_accuracy)"
   ]
  },
  {
   "cell_type": "code",
   "execution_count": 617,
   "id": "c081ca45",
   "metadata": {},
   "outputs": [
    {
     "data": {
      "image/png": "[encoded data removed]",
      "text/plain": [
       "<Figure size 700x500 with 1 Axes>"
      ]
     },
     "metadata": {},
     "output_type": "display_data"
    }
   ],
   "source": [
    "import matplotlib.pyplot as plt\n",
    "\n",
    "fig = plt.figure(figsize=(7,5))\n",
    "ax = fig.add_axes([0,0,1,1])\n",
    "bp = ax.boxplot(accuracy)\n",
    "plt.show()"
   ]
  },
  {
   "cell_type": "code",
   "execution_count": 618,
   "id": "d4ffdc9e",
   "metadata": {},
   "outputs": [
    {
     "name": "stdout",
     "output_type": "stream",
     "text": [
      "Accuracy for k = 4 is  0.564\n",
      "k = 4 --- 0.16228914260864258 seconds ---\n"
     ]
    }
   ],
   "source": [
    "#choose k = 4 because it has the highest accuracy and a relatively tight boxplot expansion.\n",
    "\n",
    "# k = 4 on validation set:\n",
    "start_time = time.time()\n",
    "X = df_pca.loc[:,1:]\n",
    "y = df.loc[:,0]\n",
    "X_train, X_test, y_train, y_test = train_test_split(X, y, test_size=0.1, random_state=1)\n",
    "model = KNeighborsClassifier(n_neighbors=4).fit(X_train,y_train)\n",
    "y_pred = model.predict(X_test)\n",
    "# score = cross_val_score(model, X,y,cv=5)\n",
    "print(\"Accuracy for k = 4 is \",accuracy_score(y_test, model.predict(X_test)))\n",
    "# print(\"Score: \",score)\n",
    "# print(\"The average score is \",mean(score))\n",
    "print(\"k = 4 --- %s seconds ---\" % (time.time() - start_time))\n",
    "accuracy_test['PCA_knn_multi'] = accuracy_score(y_test, model.predict(X_test))\n",
    "time_test['PCA_knn_multi'] = time.time() - start_time"
   ]
  },
  {
   "cell_type": "markdown",
   "id": "1a8ee701",
   "metadata": {},
   "source": [
    "## PCA Random Forest multi-class"
   ]
  },
  {
   "cell_type": "code",
   "execution_count": 619,
   "id": "ab751763",
   "metadata": {},
   "outputs": [
    {
     "name": "stdout",
     "output_type": "stream",
     "text": [
      "(20000, 4)\n",
      "[[-3.81809068  5.57462698 -2.21937959  0.09475427]\n",
      " [ 2.95817457 -3.46921801 -3.58511765 -2.41159898]\n",
      " [ 4.88510296 -2.83615221 -3.8694801  -3.14086011]\n",
      " ...\n",
      " [ 2.66012722  7.37819888 -2.43651485 -0.32884241]\n",
      " [-5.74806119 -0.69131062 -3.62635521 -0.49394092]\n",
      " [ 0.83470683 -4.60355922 -1.06670963 -5.04198139]]\n"
     ]
    }
   ],
   "source": [
    "# std_slc = StandardScaler()\n",
    "X = df.loc[:,1:]\n",
    "y = df.loc[:,0]\n",
    "# X_std = std_slc.fit_transform(X)\n",
    "pca = decomposition.PCA(n_components=4)\n",
    "X_pca = pca.fit_transform(X)\n",
    "print(X_pca.shape)\n",
    "print(X_pca)\n",
    "df_pca = pd.DataFrame(X_pca)\n",
    "# print(df_pca)"
   ]
  },
  {
   "cell_type": "code",
   "execution_count": 620,
   "id": "0536e203",
   "metadata": {},
   "outputs": [
    {
     "name": "stdout",
     "output_type": "stream",
     "text": [
      "n =  10  --- 4.993187189102173 seconds ---\n",
      "n =  20  --- 7.630398273468018 seconds ---\n",
      "n =  30  --- 11.152652025222778 seconds ---\n",
      "n =  40  --- 15.778745889663696 seconds ---\n",
      "n =  50  --- 17.933342933654785 seconds ---\n",
      "[0.627, 0.638, 0.6454, 0.6471, 0.6514]\n"
     ]
    }
   ],
   "source": [
    "warnings.filterwarnings('ignore')\n",
    "accuracy = []\n",
    "rf_accuracy = []\n",
    "time_dict['PCA_rf_multi'] = []\n",
    "estimator_list = [10,20,30,40,50]\n",
    "for i in estimator_list:\n",
    "    start_time = time.time()\n",
    "    accuracy.append(cross_validation_pca(df_pca,df,RandomForestClassifier(n_estimators=i)))\n",
    "    rf_accuracy.append(mean(cross_validation_pca(df_pca,df,RandomForestClassifier(n_estimators=i))))\n",
    "    print(\"n = \", i, \" --- %s seconds ---\" % (time.time() - start_time))\n",
    "    time_dict['PCA_rf_multi'].append(time.time() - start_time)\n",
    "accuracy_dict['PCA_rf_multi'] = rf_accuracy\n",
    "print(rf_accuracy)"
   ]
  },
  {
   "cell_type": "code",
   "execution_count": 621,
   "id": "ce9ac2cf",
   "metadata": {},
   "outputs": [
    {
     "data": {
      "image/png": "[encoded data removed]",
      "text/plain": [
       "<Figure size 500x300 with 1 Axes>"
      ]
     },
     "metadata": {},
     "output_type": "display_data"
    }
   ],
   "source": [
    "fig = plt.figure(figsize=(5,3))\n",
    "ax = fig.add_axes([0,0,1,1])\n",
    "bp = ax.boxplot(accuracy)\n",
    "plt.show()"
   ]
  },
  {
   "cell_type": "code",
   "execution_count": 622,
   "id": "ae0a78bb",
   "metadata": {},
   "outputs": [
    {
     "name": "stdout",
     "output_type": "stream",
     "text": [
      "Accuracy for n = 40 is  0.578\n",
      "n = 40 --- 1.1860811710357666 seconds ---\n"
     ]
    }
   ],
   "source": [
    "#choose the third, n = 40, because it has a relatively high accuracy and the tightest boxplot range. In addition, \n",
    "#there is little increase from 40 to 50, so we choose n = 40 as a lesse expensive choice with less time cost.\n",
    "\n",
    "# n = 40 on validation set:\n",
    "start_time = time.time()\n",
    "X = df_pca.loc[:,1:]\n",
    "y = df.loc[:,0]\n",
    "X_train, X_test, y_train, y_test = train_test_split(X, y, test_size=0.1, random_state=1)\n",
    "model = RandomForestClassifier(n_estimators=40).fit(X_train,y_train)\n",
    "y_pred = model.predict(X_test)\n",
    "# score = cross_val_score(model, X,y,cv=5)\n",
    "print(\"Accuracy for n = 40 is \",accuracy_score(y_test, model.predict(X_test)))\n",
    "# print(\"Score: \",score)\n",
    "# print(\"The average score is \",mean(score))\n",
    "print(\"n = 40 --- %s seconds ---\" % (time.time() - start_time))\n",
    "accuracy_test['PCA_rf_multi'] = accuracy_score(y_test, model.predict(X_test))\n",
    "time_test['PCA_rf_multi'] = time.time() - start_time"
   ]
  },
  {
   "cell_type": "code",
   "execution_count": 629,
   "id": "d9f88949",
   "metadata": {},
   "outputs": [
    {
     "name": "stdout",
     "output_type": "stream",
     "text": [
      "   KNN_pair1  KNN_pair2  KNN_pair3  RF_pair1  RF_pair2  RF_pair3  DT_pair1  \\\n",
      "0      0.953        1.0        1.0     0.966       1.0       1.0     0.912   \n",
      "\n",
      "   DT_pair2  DT_pair3  SVM_pair1  SVM_pair2  SVM_pair3  knn_multi  rf_multi  \\\n",
      "0     0.987     0.973      0.953        1.0        1.0      0.956     0.961   \n",
      "\n",
      "   PCA_knn_pair1  PCA_knn_pair2  PCA_knn_pair3  PCA_rf_pair1  PCA_rf_pair2  \\\n",
      "0          0.797          0.835          0.993         0.845         0.848   \n",
      "\n",
      "   PCA_rf_pair3  PCA_knn_multi  PCA_rf_multi  \n",
      "0         0.993          0.564         0.578  \n"
     ]
    }
   ],
   "source": [
    "df_accuracy_test = pd.DataFrame(accuracy_test,index=[0])\n",
    "with pd.option_context('display.max_rows', None,\n",
    "                       'display.max_columns', None,\n",
    "                       'display.precision', 3,\n",
    "                       ):\n",
    "    print(df_accuracy_test)\n"
   ]
  },
  {
   "cell_type": "code",
   "execution_count": 630,
   "id": "321d974e",
   "metadata": {},
   "outputs": [
    {
     "name": "stdout",
     "output_type": "stream",
     "text": [
      "   KNN_pair1  KNN_pair2  KNN_pair3  RF_pair1  RF_pair2  RF_pair3  DT_pair1  \\\n",
      "0      0.028       0.03      0.029     0.058     0.076     0.078     0.012   \n",
      "\n",
      "   DT_pair2  DT_pair3  SVM_pair1  SVM_pair2  SVM_pair3  knn_multi  rf_multi  \\\n",
      "0     0.012     0.012      0.032      0.021      0.028      1.433     0.837   \n",
      "\n",
      "   PCA_knn_pair1  PCA_knn_pair2  PCA_knn_pair3  PCA_rf_pair1  PCA_rf_pair2  \\\n",
      "0           0.03          0.025          0.024          0.09         0.106   \n",
      "\n",
      "   PCA_rf_pair3  PCA_knn_multi  PCA_rf_multi  \n",
      "0         0.052          0.228         1.218  \n"
     ]
    }
   ],
   "source": [
    "df_time_test = pd.DataFrame(time_test,index=[0])\n",
    "with pd.option_context('display.max_rows', None,\n",
    "                       'display.max_columns', None,\n",
    "                       'display.precision', 3,\n",
    "                       ):\n",
    "    print(df_time_test)"
   ]
  },
  {
   "cell_type": "code",
   "execution_count": 514,
   "id": "1b33425a",
   "metadata": {},
   "outputs": [
    {
     "data": {
      "text/plain": [
       "{'KNN_HK': [0.15439510345458984,\n",
       "  0.11513400077819824,\n",
       "  0.12064695358276367,\n",
       "  0.12924528121948242,\n",
       "  0.14127898216247559],\n",
       " 'KNN_MY': [0.16219186782836914,\n",
       "  0.1408219337463379,\n",
       "  0.1427593231201172,\n",
       "  0.15739178657531738,\n",
       "  0.18216395378112793],\n",
       " 'KNN_CZ': [0.15004682540893555,\n",
       "  0.1176292896270752,\n",
       "  0.12232303619384766,\n",
       "  0.13789010047912598,\n",
       "  0.14607000350952148],\n",
       " 'rf_HK': [0.21732211112976074,\n",
       "  0.3180830478668213,\n",
       "  0.48232126235961914,\n",
       "  0.6043601036071777,\n",
       "  0.7319719791412354],\n",
       " 'rf_MY': [0.20104503631591797,\n",
       "  0.2884669303894043,\n",
       "  0.4392979145050049,\n",
       "  0.5489978790283203,\n",
       "  0.6464779376983643],\n",
       " 'rf_CZ': [0.2230238914489746,\n",
       "  0.2960939407348633,\n",
       "  0.4364500045776367,\n",
       "  0.5513010025024414,\n",
       "  0.6425268650054932],\n",
       " 'dt_HK': [0.04453587532043457,\n",
       "  0.05204200744628906,\n",
       "  0.04964613914489746,\n",
       "  0.04320502281188965,\n",
       "  0.042793989181518555],\n",
       " 'dt_MY': [0.04531717300415039,\n",
       "  0.0515446662902832,\n",
       "  0.04850196838378906,\n",
       "  0.0422971248626709,\n",
       "  0.04252481460571289],\n",
       " 'dt_CZ': [0.04533076286315918,\n",
       "  0.05825304985046387,\n",
       "  0.05121588706970215,\n",
       "  0.042043209075927734,\n",
       "  0.03981590270996094],\n",
       " 'SVM_HK': [0.03613958358764648,\n",
       "  0.03611626625061035,\n",
       "  0.10760259628295898,\n",
       "  None,\n",
       "  None],\n",
       " 'SVM_MY': [0.007971858978271485,\n",
       "  0.008218955993652344,\n",
       "  0.0876993179321289,\n",
       "  None,\n",
       "  None],\n",
       " 'SVM_CZ': [0.007639312744140625,\n",
       "  0.005371904373168946,\n",
       "  0.07320642471313477,\n",
       "  None,\n",
       "  None],\n",
       " 'knn_multi': [8.060997009277344,\n",
       "  9.203828811645508,\n",
       "  9.57285189628601,\n",
       "  10.889412879943848,\n",
       "  10.82000207901001],\n",
       " 'rf_multi': [1.8353238105773926,\n",
       "  3.173168182373047,\n",
       "  4.563203811645508,\n",
       "  6.3254714012146,\n",
       "  7.801249027252197],\n",
       " 'PCA_knn_HK': [0.13048720359802246,\n",
       "  0.12953805923461914,\n",
       "  0.13298892974853516,\n",
       "  0.10550212860107422,\n",
       "  0.0990450382232666],\n",
       " 'PCA_knn_MY': [0.13944578170776367,\n",
       "  0.13033699989318848,\n",
       "  0.13070106506347656,\n",
       "  0.10585308074951172,\n",
       "  0.11154890060424805],\n",
       " 'PCA_knn_CZ': [0.18912315368652344,\n",
       "  0.28871893882751465,\n",
       "  0.45015811920166016,\n",
       "  0.5861070156097412,\n",
       "  0.7055389881134033],\n",
       " 'PCA_rf_HK': [0.3696279525756836,\n",
       "  0.427293062210083,\n",
       "  0.6475551128387451,\n",
       "  0.7465488910675049,\n",
       "  0.939734935760498],\n",
       " 'PCA_rf_MY': [0.22229981422424316,\n",
       "  0.3946690559387207,\n",
       "  0.5829098224639893,\n",
       "  0.7245700359344482,\n",
       "  0.8061108589172363],\n",
       " 'PCA_knn_multi': [1.1152732372283936,\n",
       "  1.104952096939087,\n",
       "  1.2351338863372803,\n",
       "  1.1406431198120117,\n",
       "  1.1528749465942383],\n",
       " 'PCA_rf_multi': [3.8285470008850098,\n",
       "  7.545934200286865,\n",
       "  11.41883111000061,\n",
       "  14.332005262374878,\n",
       "  17.018199920654297]}"
      ]
     },
     "execution_count": 514,
     "metadata": {},
     "output_type": "execute_result"
    }
   ],
   "source": [
    "# time_df = pd.DataFrame(time_dict)\n",
    "time_dict['SVM_HK'].append(None)\n",
    "time_dict['SVM_HK'].append(None)\n",
    "time_dict['SVM_MY'].append(None)\n",
    "time_dict['SVM_MY'].append(None)\n",
    "time_dict['SVM_CZ'].append(None)\n",
    "time_dict['SVM_CZ'].append(None)\n",
    "time_dict"
   ]
  },
  {
   "cell_type": "code",
   "execution_count": 521,
   "id": "a90fbc98",
   "metadata": {},
   "outputs": [
    {
     "name": "stdout",
     "output_type": "stream",
     "text": [
      "   KNN_HK  KNN_MY  KNN_CZ  rf_HK  rf_MY  rf_CZ  dt_HK  dt_MY  dt_CZ  SVM_HK  \\\n",
      "0   0.154   0.162   0.150  0.217  0.201  0.223  0.045  0.045  0.045   0.036   \n",
      "1   0.115   0.141   0.118  0.318  0.288  0.296  0.052  0.052  0.058   0.036   \n",
      "2   0.121   0.143   0.122  0.482  0.439  0.436  0.050  0.049  0.051   0.108   \n",
      "3   0.129   0.157   0.138  0.604  0.549  0.551  0.043  0.042  0.042     NaN   \n",
      "4   0.141   0.182   0.146  0.732  0.646  0.643  0.043  0.043  0.040     NaN   \n",
      "\n",
      "   SVM_MY  SVM_CZ  knn_multi  rf_multi  PCA_knn_HK  PCA_knn_MY  PCA_knn_CZ  \\\n",
      "0   0.008   0.008      8.061     1.835       0.130       0.139       0.189   \n",
      "1   0.008   0.005      9.204     3.173       0.130       0.130       0.289   \n",
      "2   0.088   0.073      9.573     4.563       0.133       0.131       0.450   \n",
      "3     NaN     NaN     10.889     6.325       0.106       0.106       0.586   \n",
      "4     NaN     NaN     10.820     7.801       0.099       0.112       0.706   \n",
      "\n",
      "   PCA_rf_HK  PCA_rf_MY  PCA_knn_multi  PCA_rf_multi  \n",
      "0      0.370      0.222          1.115         3.829  \n",
      "1      0.427      0.395          1.105         7.546  \n",
      "2      0.648      0.583          1.235        11.419  \n",
      "3      0.747      0.725          1.141        14.332  \n",
      "4      0.940      0.806          1.153        17.018  \n"
     ]
    }
   ],
   "source": [
    "time_df = pd.DataFrame(time_dict)\n",
    "with pd.option_context('display.max_rows', None,\n",
    "                       'display.max_columns', None,\n",
    "                       'display.precision', 3,\n",
    "                       ):\n",
    "    print(time_df)"
   ]
  },
  {
   "cell_type": "code",
   "execution_count": 516,
   "id": "768b99a7",
   "metadata": {},
   "outputs": [
    {
     "data": {
      "text/plain": [
       "{'KNN_HK': [0.9368315461777932,\n",
       "  0.9157131327107114,\n",
       "  0.9266436065951804,\n",
       "  0.9157384987893462,\n",
       "  0.914440216764672],\n",
       " 'KNN_MY': [1.0,\n",
       "  0.9980952380952381,\n",
       "  0.9980952380952381,\n",
       "  0.9974603174603175,\n",
       "  0.9980952380952381],\n",
       " 'KNN_CZ': [1.0,\n",
       "  0.9980952380952381,\n",
       "  0.9980952380952381,\n",
       "  0.9974603174603175,\n",
       "  0.9980952380952381],\n",
       " 'rf_HK': [0.9449694454052807,\n",
       "  0.9456750835927591,\n",
       "  0.9477366539836274,\n",
       "  0.9517906145509051,\n",
       "  0.953836042891733],\n",
       " 'rf_MY': [0.994291742013261,\n",
       "  0.9949226441631505,\n",
       "  0.9949266626481816,\n",
       "  0.994291742013261,\n",
       "  0.994924653405666],\n",
       " 'rf_CZ': [0.9972789115646259,\n",
       "  0.9979591836734694,\n",
       "  0.998639455782313,\n",
       "  0.998639455782313,\n",
       "  0.998639455782313],\n",
       " 'dt_HK': [0.7594972904416004,\n",
       "  0.7312625389138706,\n",
       "  0.8275337253545486,\n",
       "  0.8451677620200623,\n",
       "  0.8614850686037127],\n",
       " 'dt_MY': [0.9213703033956199,\n",
       "  0.9499638336347197,\n",
       "  0.9771770142656219,\n",
       "  0.9797146875627888,\n",
       "  0.9841571227647177],\n",
       " 'dt_CZ': [0.882312925170068,\n",
       "  0.9156462585034013,\n",
       "  0.9469387755102041,\n",
       "  0.964625850340136,\n",
       "  0.9714285714285714],\n",
       " 'SVM_HK': array([0.95849057, 0.96226415, 0.74339623]),\n",
       " 'SVM_MY': array([1.        , 0.99647887, 0.72183099]),\n",
       " 'SVM_CZ': array([1.        , 1.        , 0.50188679]),\n",
       " 'knn_multi': [0.95675, 0.943, 0.95195, 0.95065, 0.95155],\n",
       " 'rf_multi': [0.93505, 0.95255, 0.95665, 0.96035, 0.9618],\n",
       " 'PCA_knn_HK': [0.8506122448979592,\n",
       "  0.855270379338176,\n",
       "  0.8533310273261847,\n",
       "  0.8525723509742881,\n",
       "  0.8444851839040701],\n",
       " 'PCA_knn_MY': [0.9740084388185654,\n",
       "  0.9714567008237894,\n",
       "  0.9752762708458911,\n",
       "  0.9720976491862569,\n",
       "  0.970839863371509],\n",
       " 'PCA_knn_CZ': [0.9945578231292517,\n",
       "  0.9952380952380953,\n",
       "  0.9952380952380953,\n",
       "  0.9952380952380953,\n",
       "  0.9952380952380953],\n",
       " 'PCA_rf_HK': [0.8309051078058342,\n",
       "  0.8146177793151159,\n",
       "  0.8356531765248473,\n",
       "  0.8309166378415773,\n",
       "  0.8302317537184365],\n",
       " 'PCA_rf_MY': [0.9689431384368093,\n",
       "  0.9759152099658429,\n",
       "  0.9759132007233273,\n",
       "  0.97084388185654,\n",
       "  0.9740144665461121],\n",
       " 'PCA_knn_multi': [0.60325, 0.57995, 0.60035, 0.60515, 0.6113],\n",
       " 'PCA_rf_multi': [0.62905, 0.6368, 0.6463, 0.6488, 0.65015]}"
      ]
     },
     "execution_count": 516,
     "metadata": {},
     "output_type": "execute_result"
    }
   ],
   "source": [
    "accuracy_dict"
   ]
  },
  {
   "cell_type": "code",
   "execution_count": 517,
   "id": "bb94a5c5",
   "metadata": {},
   "outputs": [
    {
     "data": {
      "text/plain": [
       "{'KNN_HK': [0.9368315461777932,\n",
       "  0.9157131327107114,\n",
       "  0.9266436065951804,\n",
       "  0.9157384987893462,\n",
       "  0.914440216764672],\n",
       " 'KNN_MY': [1.0,\n",
       "  0.9980952380952381,\n",
       "  0.9980952380952381,\n",
       "  0.9974603174603175,\n",
       "  0.9980952380952381],\n",
       " 'KNN_CZ': [1.0,\n",
       "  0.9980952380952381,\n",
       "  0.9980952380952381,\n",
       "  0.9974603174603175,\n",
       "  0.9980952380952381],\n",
       " 'rf_HK': [0.9449694454052807,\n",
       "  0.9456750835927591,\n",
       "  0.9477366539836274,\n",
       "  0.9517906145509051,\n",
       "  0.953836042891733],\n",
       " 'rf_MY': [0.994291742013261,\n",
       "  0.9949226441631505,\n",
       "  0.9949266626481816,\n",
       "  0.994291742013261,\n",
       "  0.994924653405666],\n",
       " 'rf_CZ': [0.9972789115646259,\n",
       "  0.9979591836734694,\n",
       "  0.998639455782313,\n",
       "  0.998639455782313,\n",
       "  0.998639455782313],\n",
       " 'dt_HK': [0.7594972904416004,\n",
       "  0.7312625389138706,\n",
       "  0.8275337253545486,\n",
       "  0.8451677620200623,\n",
       "  0.8614850686037127],\n",
       " 'dt_MY': [0.9213703033956199,\n",
       "  0.9499638336347197,\n",
       "  0.9771770142656219,\n",
       "  0.9797146875627888,\n",
       "  0.9841571227647177],\n",
       " 'dt_CZ': [0.882312925170068,\n",
       "  0.9156462585034013,\n",
       "  0.9469387755102041,\n",
       "  0.964625850340136,\n",
       "  0.9714285714285714],\n",
       " 'SVM_HK': array([0.9584905660377359, 0.9622641509433962, 0.7433962264150943, None,\n",
       "        None], dtype=object),\n",
       " 'SVM_MY': array([1.0, 0.9964788732394366, 0.721830985915493, None, None],\n",
       "       dtype=object),\n",
       " 'SVM_CZ': array([1.0, 1.0, 0.5018867924528302, None, None], dtype=object),\n",
       " 'knn_multi': [0.95675, 0.943, 0.95195, 0.95065, 0.95155],\n",
       " 'rf_multi': [0.93505, 0.95255, 0.95665, 0.96035, 0.9618],\n",
       " 'PCA_knn_HK': [0.8506122448979592,\n",
       "  0.855270379338176,\n",
       "  0.8533310273261847,\n",
       "  0.8525723509742881,\n",
       "  0.8444851839040701],\n",
       " 'PCA_knn_MY': [0.9740084388185654,\n",
       "  0.9714567008237894,\n",
       "  0.9752762708458911,\n",
       "  0.9720976491862569,\n",
       "  0.970839863371509],\n",
       " 'PCA_knn_CZ': [0.9945578231292517,\n",
       "  0.9952380952380953,\n",
       "  0.9952380952380953,\n",
       "  0.9952380952380953,\n",
       "  0.9952380952380953],\n",
       " 'PCA_rf_HK': [0.8309051078058342,\n",
       "  0.8146177793151159,\n",
       "  0.8356531765248473,\n",
       "  0.8309166378415773,\n",
       "  0.8302317537184365],\n",
       " 'PCA_rf_MY': [0.9689431384368093,\n",
       "  0.9759152099658429,\n",
       "  0.9759132007233273,\n",
       "  0.97084388185654,\n",
       "  0.9740144665461121],\n",
       " 'PCA_knn_multi': [0.60325, 0.57995, 0.60035, 0.60515, 0.6113],\n",
       " 'PCA_rf_multi': [0.62905, 0.6368, 0.6463, 0.6488, 0.65015]}"
      ]
     },
     "execution_count": 517,
     "metadata": {},
     "output_type": "execute_result"
    }
   ],
   "source": [
    "accuracy_dict['SVM_HK'] = np.append(accuracy_dict['SVM_HK'],None)\n",
    "accuracy_dict['SVM_HK'] = np.append(accuracy_dict['SVM_HK'],None)\n",
    "accuracy_dict['SVM_MY'] = np.append(accuracy_dict['SVM_MY'],None)\n",
    "accuracy_dict['SVM_MY'] = np.append(accuracy_dict['SVM_MY'],None)\n",
    "accuracy_dict['SVM_CZ'] = np.append(accuracy_dict['SVM_CZ'],None)\n",
    "accuracy_dict['SVM_CZ'] = np.append(accuracy_dict['SVM_CZ'],None)\n",
    "accuracy_dict"
   ]
  },
  {
   "cell_type": "code",
   "execution_count": 522,
   "id": "c2a0e65c",
   "metadata": {},
   "outputs": [
    {
     "name": "stdout",
     "output_type": "stream",
     "text": [
      "   KNN_HK  KNN_MY  KNN_CZ  rf_HK  rf_MY  rf_CZ  dt_HK  dt_MY  dt_CZ SVM_HK  \\\n",
      "0   0.937   1.000   1.000  0.945  0.994  0.997  0.759  0.921  0.882  0.958   \n",
      "1   0.916   0.998   0.998  0.946  0.995  0.998  0.731  0.950  0.916  0.962   \n",
      "2   0.927   0.998   0.998  0.948  0.995  0.999  0.828  0.977  0.947  0.743   \n",
      "3   0.916   0.997   0.997  0.952  0.994  0.999  0.845  0.980  0.965   None   \n",
      "4   0.914   0.998   0.998  0.954  0.995  0.999  0.861  0.984  0.971   None   \n",
      "\n",
      "  SVM_MY SVM_CZ  knn_multi  rf_multi  PCA_knn_HK  PCA_knn_MY  PCA_knn_CZ  \\\n",
      "0    1.0    1.0      0.957     0.935       0.851       0.974       0.995   \n",
      "1  0.996    1.0      0.943     0.953       0.855       0.971       0.995   \n",
      "2  0.722  0.502      0.952     0.957       0.853       0.975       0.995   \n",
      "3   None   None      0.951     0.960       0.853       0.972       0.995   \n",
      "4   None   None      0.952     0.962       0.844       0.971       0.995   \n",
      "\n",
      "   PCA_rf_HK  PCA_rf_MY  PCA_knn_multi  PCA_rf_multi  \n",
      "0      0.831      0.969          0.603         0.629  \n",
      "1      0.815      0.976          0.580         0.637  \n",
      "2      0.836      0.976          0.600         0.646  \n",
      "3      0.831      0.971          0.605         0.649  \n",
      "4      0.830      0.974          0.611         0.650  \n"
     ]
    }
   ],
   "source": [
    "df_accuracy = pd.DataFrame(accuracy_dict)\n",
    "with pd.option_context('display.max_rows', None,\n",
    "                       'display.max_columns', None,\n",
    "                       'display.precision', 3,\n",
    "                       ):\n",
    "    print(df_accuracy)"
   ]
  },
  {
   "cell_type": "code",
   "execution_count": null,
   "id": "63ebd3ae",
   "metadata": {},
   "outputs": [],
   "source": []
  },
  {
   "cell_type": "code",
   "execution_count": null,
   "id": "4ca5d986",
   "metadata": {},
   "outputs": [],
   "source": []
  },
  {
   "cell_type": "code",
   "execution_count": null,
   "id": "6ef2e604",
   "metadata": {},
   "outputs": [],
   "source": []
  },
  {
   "cell_type": "code",
   "execution_count": null,
   "id": "71bd1910",
   "metadata": {},
   "outputs": [],
   "source": []
  }
 ],
 "metadata": {
  "kernelspec": {
   "display_name": "Python 3 (ipykernel)",
   "language": "python",
   "name": "python3"
  },
  "language_info": {
   "codemirror_mode": {
    "name": "ipython",
    "version": 3
   },
   "file_extension": ".py",
   "mimetype": "text/x-python",
   "name": "python",
   "nbconvert_exporter": "python",
   "pygments_lexer": "ipython3",
   "version": "3.9.13"
  }
 },
 "nbformat": 4,
 "nbformat_minor": 5
}
